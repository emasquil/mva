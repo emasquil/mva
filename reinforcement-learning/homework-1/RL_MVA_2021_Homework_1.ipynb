{
  "nbformat": 4,
  "nbformat_minor": 0,
  "metadata": {
    "colab": {
      "name": "RL-MVA_2021-Homework_1.ipynb",
      "provenance": [],
      "collapsed_sections": []
    },
    "kernelspec": {
      "display_name": "Python 3",
      "name": "python3"
    },
    "language_info": {
      "name": "python"
    }
  },
  "cells": [
    {
      "cell_type": "markdown",
      "metadata": {
        "id": "IAE8kMxe6E6k"
      },
      "source": [
        "# MVA - Homework 1 - Reinforcement Learning (2021/2022)\n",
        "\n",
        "**Name:** MASQUIL Elías"
      ]
    },
    {
      "cell_type": "markdown",
      "metadata": {
        "id": "vY4MH0nU637o"
      },
      "source": [
        "## Instructions\n",
        "\n",
        "* The deadline is **November 12 at 11:59 pm (Paris time).**\n",
        "\n",
        "* By doing this homework you agree to the late day policy, collaboration and misconduct rules reported on [Piazza](https://piazza.com/class/ktmvsc4knke4ia?cid=6).\n",
        "\n",
        "* **Mysterious or unsupported answers will not receive full credit**. A correct answer, unsupported by calculations, explanation, or algebraic work will receive no credit; an incorrect answer supported by substantially correct calculations and explanations might still receive partial credit.\n",
        "\n",
        "* Answers should be provided in **English**."
      ]
    },
    {
      "cell_type": "markdown",
      "metadata": {
        "id": "YB__2uUC5U1r"
      },
      "source": [
        "# Colab setup"
      ]
    },
    {
      "cell_type": "code",
      "metadata": {
        "id": "2XNj1_VZ2FGJ",
        "colab": {
          "base_uri": "https://localhost:8080/"
        },
        "outputId": "5f204471-5ca6-42ce-9516-53a5b45bf8db"
      },
      "source": [
        "from IPython import get_ipython\n",
        "\n",
        "if 'google.colab' in str(get_ipython()):\n",
        "  # install rlberry library\n",
        "  !pip install git+https://github.com/rlberry-py/rlberry.git@mva2021#egg=rlberry[default] > /dev/null 2>&1\n",
        "\n",
        "  # install ffmpeg-python for saving videos\n",
        "  !pip install ffmpeg-python > /dev/null 2>&1\n",
        "\n",
        "  # packages required to show video\n",
        "  !pip install pyvirtualdisplay > /dev/null 2>&1\n",
        "  !apt-get install -y xvfb python-opengl ffmpeg > /dev/null 2>&1\n",
        "\n",
        "  print(\"Libraries installed, please restart the runtime!\")\n"
      ],
      "execution_count": 61,
      "outputs": [
        {
          "output_type": "stream",
          "name": "stdout",
          "text": [
            "Libraries installed, please restart the runtime!\n"
          ]
        }
      ]
    },
    {
      "cell_type": "code",
      "metadata": {
        "id": "s8F7RiPXjutB"
      },
      "source": [
        "# Create directory for saving videos\n",
        "!mkdir videos > /dev/null 2>&1\n",
        "\n",
        "# Initialize display and import function to show videos\n",
        "import rlberry.colab_utils.display_setup\n",
        "from rlberry.colab_utils.display_setup import show_video"
      ],
      "execution_count": 62,
      "outputs": []
    },
    {
      "cell_type": "code",
      "metadata": {
        "id": "KISV44N_nCNm"
      },
      "source": [
        "# Useful libraries\n",
        "import numpy as np\n",
        "import matplotlib.pyplot as plt"
      ],
      "execution_count": 63,
      "outputs": []
    },
    {
      "cell_type": "markdown",
      "metadata": {
        "id": "L4hKBRTCh6Gk"
      },
      "source": [
        "# Preparation\n",
        "\n",
        "In the coding exercises, you will use a *grid-world* MDP, which is represented in Python using the interface provided by the [Gym](https://gym.openai.com/) library. The cells below show how to interact with this MDP and how to visualize it.\n"
      ]
    },
    {
      "cell_type": "code",
      "metadata": {
        "id": "514mHDeQooKa"
      },
      "source": [
        "from rlberry.envs import GridWorld\n",
        "\n",
        "def get_env():\n",
        "  \"\"\"Creates an instance of a grid-world MDP.\"\"\"\n",
        "  env = GridWorld(\n",
        "      nrows=5,\n",
        "      ncols=7,\n",
        "      reward_at = {(0, 6):1.0},\n",
        "      walls=((0, 4), (1, 4), (2, 4), (3, 4)),\n",
        "      success_probability=0.9,\n",
        "      terminal_states=((0, 6),)\n",
        "  )\n",
        "  return env\n",
        "\n",
        "def render_policy(env, policy=None, horizon=50):\n",
        "  \"\"\"Visualize a policy in an environment\n",
        "\n",
        "  Args:\n",
        "    env: GridWorld\n",
        "        environment where to run the policy\n",
        "    policy: np.array\n",
        "        matrix mapping states to action (Ns).\n",
        "        If None, runs random policy.\n",
        "    horizon: int\n",
        "        maximum number of timesteps in the environment.\n",
        "  \"\"\"\n",
        "  env.enable_rendering()\n",
        "  state = env.reset()                       # get initial state\n",
        "  for timestep in range(horizon):\n",
        "      if policy is None:\n",
        "        action = env.action_space.sample()  # take random actions\n",
        "      else:\n",
        "        action = policy[state]\n",
        "      next_state, reward, is_terminal, info = env.step(action)\n",
        "      state = next_state\n",
        "      if is_terminal:\n",
        "        break\n",
        "  # save video and clear buffer\n",
        "  env.save_video('./videos/gw.mp4', framerate=5)\n",
        "  env.clear_render_buffer()\n",
        "  env.disable_rendering()\n",
        "  # show video\n",
        "  show_video('./videos/gw.mp4')\n"
      ],
      "execution_count": 64,
      "outputs": []
    },
    {
      "cell_type": "code",
      "metadata": {
        "colab": {
          "base_uri": "https://localhost:8080/",
          "height": 542
        },
        "id": "hQAHUBw_ifMI",
        "outputId": "086b0c6c-3b37-4eed-9c14-8c52a33d1bb5"
      },
      "source": [
        "# Create an environment and visualize it\n",
        "env = get_env()\n",
        "render_policy(env)  # visualize random policy\n",
        "\n",
        "# The reward function and transition probabilities can be accessed through\n",
        "# the R and P attributes:\n",
        "print(f\"Shape of the reward array = (S, A) = {env.R.shape}\")\n",
        "print(f\"Shape of the transition array = (S, A, S) = {env.P.shape}\")\n",
        "print(f\"Reward at (s, a) = (1, 0): {env.R[1, 0]}\")\n",
        "print(f\"Prob[s\\'=2 | s=1, a=0]: {env.P[1, 0, 2]}\")\n",
        "print(f\"Number of states and actions: {env.Ns}, {env.Na}\")\n",
        "\n",
        "# The states in the griworld correspond to (row, col) coordinates.\n",
        "# The environment provides a mapping between (row, col) and the index of\n",
        "# each state:\n",
        "print(f\"Index of state (1, 0): {env.coord2index[(1, 0)]}\")\n",
        "print(f\"Coordinates of state 5: {env.index2coord[5]}\")"
      ],
      "execution_count": 65,
      "outputs": [
        {
          "output_type": "display_data",
          "data": {
            "text/html": [
              "<video alt=\"videos/gw.mp4\" autoplay\n",
              "                      loop controls style=\"height: 400px;\">\n",
              "                    <source src=\"data:video/mp4;base64,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\" type=\"video/mp4\" />\n",
              "                 </video>"
            ],
            "text/plain": [
              "<IPython.core.display.HTML object>"
            ]
          },
          "metadata": {}
        },
        {
          "output_type": "stream",
          "name": "stdout",
          "text": [
            "Shape of the reward array = (S, A) = (31, 4)\n",
            "Shape of the transition array = (S, A, S) = (31, 4, 31)\n",
            "Reward at (s, a) = (1, 0): 0.0\n",
            "Prob[s'=2 | s=1, a=0]: 0.04999999999999999\n",
            "Number of states and actions: 31, 4\n",
            "Index of state (1, 0): 6\n",
            "Coordinates of state 5: (0, 6)\n"
          ]
        }
      ]
    },
    {
      "cell_type": "markdown",
      "metadata": {
        "id": "ibGD_3I89CNu"
      },
      "source": [
        "# Part 1 - Dynamic Programming"
      ]
    },
    {
      "cell_type": "markdown",
      "metadata": {
        "id": "NR7h5won9NQY"
      },
      "source": [
        "## Question 1.1\n",
        "\n",
        "Consider a general MDP with a discount factor of $\\gamma < 1$. Assume that the horizon is infinite (so there is no termination). A policy $\\pi$ in this MDP\n",
        "induces a value function $V^\\pi$. Suppose an affine transformation is applied to the reward, what is\n",
        "the new value function? Is the optimal policy preserved?\n",
        "\n"
      ]
    },
    {
      "cell_type": "markdown",
      "metadata": {
        "id": "313W4K3B_LtN"
      },
      "source": [
        "### **Answer**\n",
        "For the original MDP we have $V^\\pi(s) = \\mathbb{E}\\big[\\sum_{t=0}^\\infty\\gamma^tr(s_t, d_t(h_t)| s_0=s; \\pi)\\big]$.\n",
        "\n",
        "Let's call $\\tilde{V}^\\pi$ the value function of the same policy in the new MDP, where an affine transformation was applied to the reward. The new reward is $\\tilde{r}(.,.) = Ar(.,.) + b$.\n",
        "\n",
        "$\\tilde{V}^\\pi(s) = \\mathbb{E}\\big[\\sum_{t=0}^\\infty\\gamma^t\\tilde{r}(s_t, d_t(h_t)| s_0=s; \\pi)\\big] = \\mathbb{E}\\big[\\sum_{t=0}^\\infty\\gamma^t(Ar(s_t, d_t(h_t)| s_0=s; \\pi) + b)\\big]$\n",
        "\n",
        "Then, the new value function is $\\tilde{V}^\\pi(s) = AV^\\pi(s) + b \\sum_{t=0}^\\infty \\gamma^t = AV^\\pi(s) + \\frac{b}{1-\\gamma}$\n",
        "\n",
        "---\n",
        "The optimal policy will be preserved $\\iff A\\geq0$, let's see why:\n",
        "\n",
        "The value of the original optimal policy in the new modified MDP is:\n",
        "$V^*_{old}(s) = AV^*(s) + \\frac{b}{1-\\gamma}$.\n",
        "This policy will be optimal iff satisfies the Optimal Bellman equation:\n",
        "$V^*_{old}(s) = \\max_{a \\in A}\\big\\{Ar(s,a) + b + \\gamma\\sum_{s'}P(s'|s,a)V^*_{old}(s')\\big\\}$.\n",
        "\n",
        "$\\underline{A=0}$:\n",
        "\n",
        "The Optimal Bellman equation is simply: $\\frac{b}{1-\\gamma} = \\max_{a}\\big\\{b + \\gamma\\sum_{s'}P(s'|s,a)\\frac{b}{1-\\gamma}\\big\\} = b + \\frac{b\\gamma}{1-\\gamma} = \\frac{b}{1-\\gamma}$. Thus the policy remains optimal.\n",
        "\n",
        "$\\underline{A>0}$:\n",
        "\n",
        "$\\max_{a}\\big\\{Ar(s,a) + b + \\gamma\\sum_{s'}P(s'|s,a)V^*_{old}(s')\\big\\} = \\max_{a}\\big\\{Ar(s,a) + b + \\gamma\\sum_{s'}P(s'|s,a)(AV^*(s')+\\frac{b}{1-\\gamma})\\big\\}$\n",
        "\n",
        "$... = A \\max_{a}\\big\\{r(s,a) + \\gamma\\sum_{s'}P(s'|s,a)V^*(s')\\big\\} + \\frac{b}{1-\\gamma}$\n",
        "\n",
        "From this, we can recognize that the $\\max$ term is exactly $V^*(s)$, so\n",
        "\n",
        "$V_{old}^*(s) = \\max_{a}\\big\\{Ar(s,a) + b + \\gamma\\sum_{s'}P(s'|s,a)V^*_{old}(s')\\big\\}$\n",
        "\n",
        "Then, the optimal policy is preserved.\n",
        "\n",
        "$\\underline{A<0}$:\n",
        "\n",
        "$\\max_{a}\\big\\{Ar(s,a) + b + \\gamma\\sum_{s'}P(s'|s,a)(AV^*(s')+\\frac{b}{1-\\gamma})\\big\\} = A \\min_{a}\\big\\{r(s,a) + \\gamma\\sum_{s'}P(s'|s,a)V^*(s')\\big\\} + \\frac{b}{1-\\gamma}$\n",
        "\n",
        "So the value function doesn't satifies the optimallity equation any longer, and the optimal policy changes."
      ]
    },
    {
      "cell_type": "markdown",
      "metadata": {
        "id": "0uCVgkDo9vTM"
      },
      "source": [
        "## Question 1.2\n",
        "\n",
        "Consider an infinite-horizon $\\gamma$-discounted MDP. We denote by $Q^*$ the $Q$-function of the optimal policy $\\pi^*$. Prove that, for any function $Q(s, a)$ (which is **not** necessarily the value function of a policy), the following inequality holds for any state $s$:\n",
        "\n",
        "$$\n",
        "V^{\\pi_Q}(s) \\geq V^*(s) - \\frac{2}{1-\\gamma}||Q^*-Q||_\\infty,\n",
        "$$\n",
        "\n",
        "where $||Q^*-Q||_\\infty = \\max_{s, a} |Q^*(s, a) - Q(s, a)|$ and $\\pi_Q(s) \\in \\arg\\max_a Q(s, a)$. Can you use this result to show that any policy $\\pi$ such that $\\pi(s) \\in \\arg\\max_a Q^*(s, a)$ is optimal?"
      ]
    },
    {
      "cell_type": "markdown",
      "metadata": {
        "id": "8MqGWPPD_OAI"
      },
      "source": [
        "### **Answer**\n",
        "$V^*(s) - V^{\\pi_Q}(s) = Q^*(s, \\pi^*(s)) - Q^{\\pi_Q}(s, \\pi_Q(s)) + Q^*(s,\\pi_Q(s)) - Q^*(s,\\pi_Q(s))$\n",
        "\n",
        "$V^*(s) - V^{\\pi_Q}(s) = Q^*(s, \\pi^*(s)) - Q^*(s,\\pi_Q(s)) + \\gamma \\sum_{s'}P(s'/s, \\pi_Q(s)) (V^*(s') - V^{\\pi_Q}(s')$\n",
        "\n",
        "Since $Q(s, \\pi_Q(s)) \\geq Q(s, a) \\text{ }\\forall a$ because of the definition of $\\pi_Q$\n",
        "\n",
        "$V^*(s) - V^{\\pi_Q}(s) \\leq  Q^*(s, \\pi^*(s)) - Q(s, \\pi^*(s))- Q^*(s,\\pi_Q(s)) + Q(s, \\pi_Q(s)) + \\gamma \\sum_{s'}P(s'/s, \\pi_Q(s)) (V^*(s') - V^{\\pi_Q}(s')$\n",
        "\n",
        "$V^*(s) - V^{\\pi_Q}(s) \\leq 2||Q^* - Q||_{\\infty} + \\gamma \\sum_{s'}P(s'/s, \\pi_Q(s)) (V^*(s') - V^{\\pi_Q}(s') $\n",
        "\n",
        "$V^*(s) - V^{\\pi_Q}(s) \\leq 2||Q^* - Q||_{\\infty} + \\gamma ||V^* - V^{\\pi_Q}||_{\\infty} $\n",
        "\n",
        "As the inequality is valid for every state $s$, we can take the infinity norm on the LHS\n",
        "\n",
        "$ ||V^* - V^{\\pi_Q}||_{\\infty} \\leq \\frac{2}{1-\\gamma} ||Q^* - Q||_{\\infty}$\n",
        "\n",
        "Finally, \n",
        "\n",
        "$V^*(s) - V^{\\pi_Q}(s) \\leq ||V^* - V^{\\pi_Q}||_{\\infty} \\leq \\frac{2}{1-\\gamma} ||Q^* - Q||_{\\infty}$\n",
        "\n",
        "$V^*(s) -  \\frac{2}{1-\\gamma} ||Q^* - Q||_{\\infty} \\leq V^{\\pi_Q}(s)$\n",
        "\n",
        "----\n",
        "\n",
        "Now that we proved the previous inequality, we can use it for $Q(s,a) = Q^*(s,a)$.\n",
        "\n",
        "$V^{\\pi_{Q^*}}(s) \\geq V^*(s)$\n",
        "\n",
        "Notice also that by definition of the optimal value function\n",
        "\n",
        "$V^*(s) \\geq V^{\\pi}(s)$ for any policy $\\pi$\n",
        "\n",
        "Then it follows that\n",
        "$V^{\\pi_{Q^*}}(s) = V^*(s)$ which implies that the policy $\\pi$ such that $\\pi(s) \\in \\arg\\max_a Q^*(s, a)$, is optimal."
      ]
    },
    {
      "cell_type": "markdown",
      "metadata": {
        "id": "yIrtb7sihYcM"
      },
      "source": [
        "## Question 1.3\n",
        "\n",
        "In this question, you will implement and compare the policy and value iteration algorithms for a finite MDP. \n",
        "\n",
        "Complete the functions `policy_evaluation`, `policy_iteration` and `value_iteration` below.\n",
        "\n",
        "\n",
        "Compare value iteration and policy iteration. Highlight pros and cons of each method."
      ]
    },
    {
      "cell_type": "markdown",
      "metadata": {
        "id": "GLmQtk-wt0HS"
      },
      "source": [
        "### **Answer**\n",
        "\n",
        "Both dynamic programming methods have strong convergence theorems. However, a difference in terms of the convergence is that while Policy Iteration (PI) converges in a finite number of steps, Value Iteration (VI) converges asymptotically. Also, in practice, the number of steps for PI to converge is small. On the other hand, one advantage of VI against PI, is that each iteration is much cheaper for the former, because PI requires a fully policy evaluation (in each state, action pair) for each iteration.\n",
        "\n"
      ]
    },
    {
      "cell_type": "code",
      "metadata": {
        "id": "9yI0YYtMmpDQ"
      },
      "source": [
        "def policy_evaluation(P, R, policy, gamma=0.9, tol=1e-2):\n",
        "    \"\"\"\n",
        "    Args:\n",
        "        P: np.array\n",
        "            transition matrix (NsxNaxNs)\n",
        "        R: np.array\n",
        "            reward matrix (NsxNa)\n",
        "        policy: np.array\n",
        "            matrix mapping states to action (Ns)\n",
        "        gamma: float\n",
        "            discount factor\n",
        "        tol: float\n",
        "            precision of the solution\n",
        "    Return:\n",
        "        value_function: np.array\n",
        "            The value function of the given policy\n",
        "    \"\"\"\n",
        "    Ns, Na = R.shape\n",
        "    # ====================================================\n",
        "\t  # YOUR IMPLEMENTATION HERE\n",
        "    # Expected reward\n",
        "    r = np.array([R[state, action] for state, action in enumerate(policy)])\n",
        "    # Expected transitions\n",
        "    p = np.array([P[state, action, :] for state, action in enumerate(policy)])\n",
        "    identity = np.eye(Ns)\n",
        "    value_function = np.linalg.solve(identity - gamma * p, r)\n",
        "    # ====================================================\n",
        "    return value_function"
      ],
      "execution_count": 66,
      "outputs": []
    },
    {
      "cell_type": "code",
      "metadata": {
        "id": "ncqbPx99ncVY"
      },
      "source": [
        "def policy_iteration(P, R, gamma=0.9, tol=1e-3):\n",
        "    \"\"\"\n",
        "    Args:\n",
        "        P: np.array\n",
        "            transition matrix (NsxNaxNs)\n",
        "        R: np.array\n",
        "            reward matrix (NsxNa)\n",
        "        gamma: float\n",
        "            discount factor\n",
        "        tol: float\n",
        "            precision of the solution\n",
        "    Return:\n",
        "        policy: np.array\n",
        "            the final policy\n",
        "        V: np.array\n",
        "            the value function associated to the final policy\n",
        "    \"\"\"\n",
        "    Ns, Na = R.shape\n",
        "    V = np.zeros(Ns)\n",
        "    policy = np.ones(Ns, dtype=np.int)\n",
        "    # ====================================================\n",
        "\t  # YOUR IMPLEMENTATION HERE \n",
        "    #\n",
        "    not_finished = True\n",
        "    while not_finished:\n",
        "      # Policy evaluation\n",
        "      V = policy_evaluation(P, R, policy, gamma)\n",
        "      # Policy improvement\n",
        "      old_policy = policy.copy()\n",
        "      for state in range(Ns):\n",
        "        max_value = -np.inf\n",
        "        best_action = 0\n",
        "        for action in range(Na):\n",
        "          value = R[state, action] + gamma * np.dot(P[state, action, :], V)\n",
        "          if value > max_value:\n",
        "            max_value = value\n",
        "            best_action = action\n",
        "        policy[state] = best_action\n",
        "      # Check if policy is optimal\n",
        "      if np.all(old_policy == policy):\n",
        "        not_finished = False\n",
        "    # ====================================================\n",
        "    return policy, V"
      ],
      "execution_count": 67,
      "outputs": []
    },
    {
      "cell_type": "code",
      "metadata": {
        "id": "3jB7dfA5nRCZ"
      },
      "source": [
        "def value_iteration(P, R, gamma=0.9, tol=1e-3):\n",
        "    \"\"\"\n",
        "    Args:\n",
        "        P: np.array\n",
        "            transition matrix (NsxNaxNs)\n",
        "        R: np.array\n",
        "            reward matrix (NsxNa)\n",
        "        gamma: float\n",
        "            discount factor\n",
        "        tol: float\n",
        "            precision of the solution\n",
        "    Return:\n",
        "        Q: final Q-function (at iteration n)\n",
        "        greedy_policy: greedy policy wrt Qn\n",
        "        Qfs: all Q-functions generated by the algorithm (for visualization)\n",
        "    \"\"\"\n",
        "    Ns, Na = R.shape\n",
        "    Q = np.zeros((Ns, Na))\n",
        "    Qfs = [Q]\n",
        "    # ====================================================\n",
        "\t  # YOUR IMPLEMENTATION HERE \n",
        "    #\n",
        "    error = np.inf\n",
        "    while error > tol:\n",
        "      new_Q = np.empty_like(Q)\n",
        "      for state in range(Ns):\n",
        "        for action in range(Na):\n",
        "          new_Q[state, action] = R[state, action] + gamma * np.dot(P[state, action, :], Qfs[-1].max(axis=1))\n",
        "      error = np.linalg.norm(Qfs[-1] - new_Q, ord=np.inf)\n",
        "      Qfs.append(new_Q)\n",
        "    Q = Qfs[-1]\n",
        "    greedy_policy = np.argmax(Q, axis=1)\n",
        "    # ====================================================\n",
        "    return Q, greedy_policy, Qfs"
      ],
      "execution_count": 68,
      "outputs": []
    },
    {
      "cell_type": "markdown",
      "metadata": {
        "id": "-Fi0IzZJp74Z"
      },
      "source": [
        "### Testing your code"
      ]
    },
    {
      "cell_type": "code",
      "metadata": {
        "id": "P7JKrc1oqFI2",
        "colab": {
          "base_uri": "https://localhost:8080/",
          "height": 1000
        },
        "outputId": "e99527dc-6fc8-4090-b7d0-a3c7afd7c8c2"
      },
      "source": [
        "# Parameters\n",
        "tol = 1e-5\n",
        "gamma = 0.99\n",
        "\n",
        "# Environment\n",
        "env = get_env()\n",
        "\n",
        "# run value iteration to obtain Q-values\n",
        "VI_Q, VI_greedypol, all_qfunctions = value_iteration(env.P, env.R, gamma=gamma, tol=tol)\n",
        "\n",
        "# render the policy\n",
        "print(\"[VI]Greedy policy: \")\n",
        "render_policy(env, VI_greedypol)\n",
        "\n",
        "# compute the value function of the greedy policy using matrix inversion\n",
        "# ====================================================\n",
        "# YOUR IMPLEMENTATION HERE \n",
        "# compute value function of the greedy policy\n",
        "greedy_V = policy_evaluation(env.P, env.R, VI_greedypol, gamma, tol)\n",
        "\n",
        "# ====================================================\n",
        "\n",
        "# show the error between the computed V-functions and the final V-function\n",
        "# (that should be the optimal one, if correctly implemented)\n",
        "# as a function of time\n",
        "final_V = all_qfunctions[-1].max(axis=1)\n",
        "norms = [ np.linalg.norm(q.max(axis=1) - final_V) for q in all_qfunctions]\n",
        "plt.plot(norms)\n",
        "plt.xlabel('Iteration')\n",
        "plt.ylabel('Error')\n",
        "plt.title(\"Value iteration: convergence\")\n",
        "\n",
        "#### POLICY ITERATION ####\n",
        "PI_policy, PI_V = policy_iteration(env.P, env.R, gamma=gamma, tol=tol)\n",
        "print(\"\\n[PI]final policy: \")\n",
        "render_policy(env, PI_policy)\n",
        "\n",
        "## Uncomment below to check that everything is correct\n",
        "assert np.allclose(PI_policy, VI_greedypol),\\\n",
        "    \"You should check the code, the greedy policy computed by VI is not equal to the solution of PI\"\n",
        "assert np.allclose(PI_V, greedy_V),\\\n",
        "    \"Since the policies are equal, even the value function should be\"\n",
        "\n",
        "plt.show()"
      ],
      "execution_count": 69,
      "outputs": [
        {
          "output_type": "stream",
          "name": "stdout",
          "text": [
            "[VI]Greedy policy: \n"
          ]
        },
        {
          "output_type": "display_data",
          "data": {
            "text/html": [
              "<video alt=\"videos/gw.mp4\" autoplay\n",
              "                      loop controls style=\"height: 400px;\">\n",
              "                    <source src=\"data:video/mp4;base64,AAAAIGZ0eXBpc29tAAACAGlzb21pc28yYXZjMW1wNDEAAAAIZnJlZQAALKhtZGF0AAACrQYF//+p3EXpvebZSLeWLNgg2SPu73gyNjQgLSBjb3JlIDE1MiByMjg1NCBlOWE1OTAzIC0gSC4yNjQvTVBFRy00IEFWQyBjb2RlYyAtIENvcHlsZWZ0IDIwMDMtMjAxNyAtIGh0dHA6Ly93d3cudmlkZW9sYW4ub3JnL3gyNjQuaHRtbCAtIG9wdGlvbnM6IGNhYmFjPTEgcmVmPTMgZGVibG9jaz0xOjA6MCBhbmFseXNlPTB4MzoweDExMyBtZT1oZXggc3VibWU9NyBwc3k9MSBwc3lfcmQ9MS4wMDowLjAwIG1peGVkX3JlZj0xIG1lX3JhbmdlPTE2IGNocm9tYV9tZT0xIHRyZWxsaXM9MSA4eDhkY3Q9MSBjcW09MCBkZWFkem9uZT0yMSwxMSBmYXN0X3Bza2lwPTEgY2hyb21hX3FwX29mZnNldD0tMiB0aHJlYWRzPTMgbG9va2FoZWFkX3RocmVhZHM9MSBzbGljZWRfdGhyZWFkcz0wIG5yPTAgZGVjaW1hdGU9MSBpbnRlcmxhY2VkPTAgYmx1cmF5X2NvbXBhdD0wIGNvbnN0cmFpbmVkX2ludHJhPTAgYmZyYW1lcz0zIGJfcHlyYW1pZD0yIGJfYWRhcHQ9MSBiX2JpYXM9MCBkaXJlY3Q9MSB3ZWlnaHRiPTEgb3Blbl9nb3A9MCB3ZWlnaHRwPTIga2V5aW50PTI1MCBrZXlpbnRfbWluPTUgc2NlbmVjdXQ9NDAgaW50cmFfcmVmcmVzaD0wIHJjX2xvb2thaGVhZD00MCByYz1jcmYgbWJ0cmVlPTEgY3JmPTIzLjAgcWNvbXA9MC42MCBxcG1pbj0wIHFwbWF4PTY5IHFwc3RlcD00IGlwX3JhdGlvPTEuNDAgYXE9MToxLjAwAIAAAAW4ZYiEADv//vBuvgU0apUrs/o0E9i+dz9TQG5F3NmgpKyheVSoEmNHtAAAAwAAAwAAAwAAMy8zs8NKhCktnQEG2KD6AAADAAADABNhYsAABmQF0AkoEvt2q3NJKSAae37PS2MXt2yuMZzCfaiAJUAo/mnb60fe5WEUE618ti1b0iO7j/4A7jOz1ys9WHaltMaTbCXlZjW2HHEhtG1AED3CrLq22kc/318u7ztZRFZdrICz2ZaEIgjWYA8SIFcV9AUJyDRXQ9W78Bz4KiEdewXtfQY1fwZBgQaRgwbmngheoAi2ogiwdg+tTBIw/B+6oCbCCER1YFBEMIeIoRMSD+wu/kBuq/mTFs9/E0o2/ifeapvQpDBlh81vxnPXHNgK9CF0iN4IV09IePTAYsTO1p/ie3Rme8DkFL912cuZtOsVR4WxgwbAN7TSKl+J8S+fOWgUKx3PxXm4m5862uUoaHrZ3epkpx8CouTNTCOfyn1VDdqnDXPJdSCkJTUp+yhAEhgIOtWGKgqXr2O4ooXB3mEut4Qbs2fZrzNvl4SK3FaaOxMotL/0hI/8hoXXCDN3Dt45U4myfVEo56aY4M1E+HFyfsbcPA9+aJQqtuf3OMvCHSF5YjZuIroh7sYJrqLTSmsxe939n8M5C4dv8f1/KqQDUIbYpTyTG60dRtdDKJI4W6izNOFRqwXlAdvaMLCSkYfDCn9tYJhMDwZSJY/+vd85xDjHvd1KjtJNF5DQL2UiwqZlBRrvaQtBF/DMgY67oAOLt+sPmnLBUO39+aNRDXOyXwh7AcrmudxQov4f2fDc7Doi9Z5yAKJ3I8XLPvTByAHu2lHGxH7ooAjg02k3ROHCye3Rj08VoxZxcvP69loSAKivHQ/6nCr9BzypKlQTNFraVPEDE3UPEuHFBsuNm9otrveZhzyHgd0sXbaVvGGoHu41HIWhlrYBh84JITQcLNmeDeIlRSXx9SI9c/GnyOssdb1LaMPJiz8UrhnYtYfGUdwNMnjtj/brnYaYS+MffYPw7ePqOWNss/W+2h67xPnudyFOKf6OrQaGfjuZ7IbULt7mUxFn/QGmbRep9pA4gAMBTo6gi/sBK+NL0FcbCukeHz6rbMZ1NSZrlTttQhPlarL9FR2ao/SZqPqA06b8bukxl2/3gyz1h0suhR9PnX4RmX18Fa0ybWgFaYGiKIWgbsBUK8zPj/YsYXSQyQihRpvnPNxVeIfDAFbexFm5kobFYKV/ZM49v5PmGyOnKStZ8Obmw6iW5AQTRUQDjkykWC/Ekv36ru9M3BmuT2LH71oWqt94ii8HT0DNMps+JHabruX+hwzs55ziAW/2XXOGHBBsOMAub03C+TuLvAVSyFIZ4F1ZFczvpS1d/+dlOMGzLZNnQOncaC52oZRd0Q9ToK9PlCdgt9/194N+9QuWgMq1O+mRYxiYHYPHfXB6gKCyGWjcR8mqRSma+0e0SIOaSfbD12PBGyhYI9GIqRedjOBy+lr4WcwYQOKfbdHps+S7jP8gwIt4KbT1Zt3thXzVW7siarGKJpHpDoKsJsJI5z5BeZVXRSDp66SU1NcyBAmsz4sitP1ZapA2Oh2NR7ovaIvcGaShRnF2oXqShbrV+W/IJ1WB4/4Wdgtsvd90gvol/NQi2RkZpkkoUSNK60rSd7oAzlIIYy2FmwQaYzxrhvH+b/WKCWfG971ByWB/md7+OIR+uQIbsKNzQbSmSggK6MW+g65zOwCWWxuQauVI9zF0XDly/NAkW7uJfQmqw1mIWzhQEdph+XkkPK4tzOWpz2N5/w062GrkwQlBN7zArolhIzhlL2T9NDJmM9zhpGvLOKtZRyz3ijaYklBFd3PuZh+53ri0ICwhlalWOyqw75nxbsRj6mzPJCpQc19yAWUIMgIsl47nU/+87m/4bagUXW1Pj2mCtUvv2oGufrAAPBZk8yKkDSRCdjmHAAACVUGaIWxDv/6plgAAAwAAAwAAmCvygB0rT4Nt17NO1N1aAUvuAaLPZQ1Li+KoNC2ntni75lEcgyk5FaZx17bVgj0fQnV5hXyoe0ZVGOEuUY0Ujpi3idpDH31fjlsbqpEqAffw2dY0brRNQpJtRwiblXG7CzG9mu3n9V2B174oshskCE0hTmyZV40o8Zy+VGTPT5LR9ECJaCjps/2nfdvppiwv/mFCJoHbK6niXumdrMxmEHvDIk4tMRcBY3/Aj4MIshOAQ5wX1btyVEVjCHVyqhl90WHgapAX0d7DFT7k8G+s1tsAkCw+b0wbzckXKjYs0/s9ShDWqNsrA9WcTLtaquKAsnKSGVuy+QKEuYIDeabCEWPPTcQ2e8NZx0oYebF+9Tvy7HBNztA0n9RieWYDZy45gAXo6IzuJd4H1m3M/LrA6gAlPPLC3lMp/T2/m2uLAOnXNMu+XbMt0zyIAtcOLfrJ3iTyvwi4eNe4K53HWlUTFcB8BO8QpKy3MlXMfzXqxrb19RVo1zbghJQ5ney1bk7ZzD4fjqhds1nFU5ADvfy8NxZlNjklmFtn1a142F/dA7VmqC/uT8e+51uexDLASARMLLq3uQTHGGoN+zQF9FfWNuwpDfFlw08WJgPc4y4txFyOx2lUJiBU6xsaGrCGUFmLjheWbn5321EGgYgnWQZEjmmKeyFQ0lWMb39KQJ84Sei6fNti5BOSeQiStYFT9PZPDDihyycsB4DlgjYy7G1bnVD6RhHHeFBdIxgE6jI08L+MX5NIpsm1uOAPOptxCbksr9tQjAAAAkdBmkI8IZMphDv//qmWAAADAAASnlf4OXEnQBEIXqm07Mnht13DXRxuuhHAG9UYMvwmBU90TV4M7Va+K9DnwbknkRgv2oGETVt3OfKD+8f6TObxT+agJLQATaB6AqHP7HEyeHPW2bQDuw1ktGXDlnzQ/VSOV+kkp6jwiA0ZldcHgdUVxn5THZaeNhGtH/RADIVuoxRkPjFsnpFzbEvaAuodR1YZgdh9nscG+MUvbiBepm1/1lNNLF6qn7aKvII2i0rtafJDGExavrn6wJYtnqjAqtOvX1iguJQbh/QaYXIhiaUuRTRFx8TfgUgD3+Y1Jv3A3P9EiIgrwxQFVikX+ewhfvhdBDgwuIzB1vvok78iPXIXnVgeFXDOubXbJufkNzfrSd4ByRKH1lszJ8xPVoaSuZhvTlpoP2HL+/ByVX8v3RqZMWP1keTTcrnptKbIz2ZKIwoDCZvsr2Bdd5sGd8ZAP8sOYX90Vk7E4c/OGbxgkYCeofsB8zilUjH0Sk3LhymyOrNOyVPQt6PzgcUAbl+uBMrA1hfx/tapC1JGjOh3xctHoHjYO1GgqLuksZN/v5qilvnE1t9q89/LVyqUkGOJgOLRqI7kcv6+NojBOLlZ2N5yK3wnLt9kk+ckw2DKrdLLs7H1Bwhvze+9neTQYii4JFLsren/xN1Y9HjfiKHCbf0h6OA2sT6QfPjanEhwPgcjom0WmwfqkKV/FP4S5MVI1EXQ/+xvA+mjoFhMpIKsXrJSvNoVv1/Ax/JdbsriPwGwkSqhjAHXAAACKUGaY0nhDyZTAh3//qmWAAAHzMUUAbZBpXIcgC3t8edbNTitnZwoaH5Nt/4OIVjkCorDFzMQat79Nzr3uiCf+D0P4MfySIN5RXuOzj8dvbxcQROWAifLYSJlY124yfwwVC4ZJcVAwq/M1q51Xy5T2lBMp2m/+WMdLwjm207ZnQ5795dEBi0wDJxWVfUD0n21I7G0+JDnQ1CSVudHc7anxAf4EiiejbdiZLULXPPv/a+xQAvX7RcSbNnvN16aHmfrwzAS+94LkEdz2VL8Ja67SkgAQp5SotaNtTj5l65/eucQN/gKHT/JhCMoxh0Pk5tYst3JXAE+oJO4M6oT412TxGFVD9lBungnsQNXAgfn6r18cPjR0+fhtk7MY6lxZW8seVRzn/cAD0UC/GVjHED+/9ZSqyE82Dod+4w+WQLuUhIRe3ps0SkKcQS5A17am1anQQz8yMwKD/YOQ8uUDVBlSYMJxY6xeg1WwKVFKPUDUCI3050/MbXEPCpG7B9LqGqSXeVHcfnRf2PE1SQXW93J2Dgks8Mgcr2AV2+cenSbtwcg+KX2vV9qCL7d3iQTpJ9Ec2jXaNT9pxkL8g66XZYu99RHdJMrimxU5oI4h9bdbJSriuHNlM7hQ2LBfGXZGC0bXN5plVUR+g4KmvRWl5Va9JjRaPG3oQ76Zn1LLcC8x8GmZorfs31s9hcONLqbpERnioOyEYJbon7CdrrKuEQDyBoDtZZdQAAAYEAAAAJJQZqESeEPJlMCHf/+qZYAAAfX24H/TsPEgWAg0rkBwG2kGyBvA59MxgAx53hViw+ESQhg7MiL2DIrrbEH6ChQsQh2FFEJSF5cXuzKibmM8NPPhVJVkV6HMxjx/u/8nu2Zgj9NBoVKcvRJndgQnv7E1kLsY2X/4Kw20V2akWNzp8lhSZBdc7jKFkIyjdoEsqL5qy/Hgh7N+aHVX6ugEjh4U55wLaumAFxqk/4Sw2S7vwpxfGQgbIPkGspfy+VxwNWNVJtwTlVDMMSWttYFnJLSqo/ydNPo5lSAKLGMyDNVf96aBZ5G/qniihqSKvACM3D8qGD+viSP5cKoullckvst0ZX8SL3umtJYuDKG5lpKYsbRxlp5UAXrfWoR2bPYAZFz3mZZAkJn78GQ80MAQs6s8vPKHObD+x00wrkY7mv1r4sG85BrG0Ld5YDNMd78LdwzE/qL79KGSSOIUfYzjRR67lFbraALu3aq1qDR2R1BBZXdiyTjxzKY8hKlar6hXXnU6adJOp4plx2lUgNTSavDfhNfqnaR+adyJs7aw87tuV+q6m6N/miHLK6hini8P+radMWaexasxpx7nJsb8vB/KP6w3QtgknBbhihIxg8o0Q+OG83z3H19vaRaakC0Sy9QzYH9VkCbBoG30yyLjsHRhXcQRDyjwwgKET9zvIZabm3iHAbgYG+8WQMAnmW3kGCvyyvb8YsyF4M2t4EOh3d1gVBzb4P+BJaLPoMGAgFC16amV8V4kGhz6ECG6aCrXHZoGAlAAAADAAE7AAACS0GapUnhDyZTAh3//qmWAAAGq9uB/07DxIFhIYlchyALe3x51s1FRqMA2xoDJiw+ESPsOE0O3j64ihYN4YqzbCfvph3BszX8GJMmkviqDQqTtSFN/yEfVtiB7h3WOWo13h6qqId/TRFT9o1gn1x84Ealo3/xbjfUG/597IXU3aYaRDwYvsLsW0n931Ap1ZK8vevS5mFHkU11H9zPITGNgh8YyzonYEz1HJd/QpTXR8BfeLM3caHxpKZTK8L3FWKV4Yal0XiNuL99uOdEejmMT78FknLTcRtU+/Cjfn/FmjVKPnWbJT5A4eiv917I1zO/nfrOlRMMVcb7EXtOM20yW8e5MvuG6eZhbuJIq0nASK1A9XQB7VO0XxcP0AF2OBWgFvbp6RVYv4f2RaCIxoPyQUDXmQZkpWxlNk6wGT5KwnpvZeu4jMh79c/j3IJIRMkoOLH5kKVEV5/8Ap9ZO1idMpPlgAH3A6jXjWMnjO33q/l7YYjeBNg+aQ97svG8dw0qXVEZ/Izb+CEA3WqNQG7zFrEVb7tbEZuoXwhPNc3pVZVFzTO7gpAHY1cl4tlZ7sFs9ot7CbIaUf/FA8dTNQhdJYBEko3A9zNKqn7/9oCgZeDUHPp+uez5cErjcVrobF4WSSWhz/t3DfYw2+rKAP7wAThHj62OMUmt1Ko9ABgsZ1Sgs4SkX7gWmaFmYwqIt7onmoxqB917LbQtP8v3YbsdAj/4XdyVUCjW2LXzM2LhP6J6czIZo9oAOqg/lBrVk6426RWKtIrkAAADAAEzAAACDkGaxknhDyZTAh3//qmWAAAFm+BR/0FJK4B8UIlcYsQ04uox9AQHzfmlAW0+oY3/y9D9hwmhnmn59Bz3AqQKqZBCbBFIc3iFw09xfItbyl6pEeeqQ9/LWYv7HvYEeltV9tlrlnH5l11AtqtjAa9BeCEZ14Q2bb0r3qrejKEFos0hf+z1nBP5VL5UKG0xBjGrlpbaDcKz2XePwyF3TEPrfL3lefjNjBZteRRO1pBM2Z3t1KAfjssVn1zB/5O4PtN97FuYby82CxI9iOZSCyEywyR8UV4zk4aHyjALdVF4pBnkchu/7mkyg3wPzwB9ZVXg01Of7N+eXvzApeZ1+cd5qwiE1jy32kR6LmlgPCJ0tes5qsl1vG1fnTZ2HkrPU3eS2Luh0gNDPHrOgb+0XRs0MZ3Pl4D0wg50arus4QAACjUcVRmRCoTyeGgDehb42FCEqJtg8jG+HKetqrSz2w3MygxE7WB1vTVICnIwA0btlUuHv9iMrRiXKIwtB2eRf1RbgWTUmzkb5QcEIDAc+PcS8y+63VD0jzEs7C1ThqLKcDWwHopq1EwxWcB2z/ZE0kGPk2qmc+9g0kcBTWDhf8cFbynLMcYwk5HN30FCQf3gpYChd0hbxdsUqBt2GDJiNQd/9eQvgjie5Gmk1E3BmQFNKxgv64SCJKWl2lChAJm2JpgtvtBT3HC8QNAAAAMAAb8AAAJiQZrnSeEPJlMCHf/+qZYAkBr5QA6Vp8G269mnam6tAKX3ANFnsoalxfFUGhbT33gX8a99PWfiBA4Rpaskl8HChgY1lSFqtbBjgkPlK5pWujj4dXnUSflvinKbJMvRYjHMqAhdI6RUtRuu5iphKY4wTyf98/JzijQ8mt8OtLdjg1+yBAvJQ8J/X6jTlO+CT8R8xlkkdQ6e932mg2VzUnEDEm4j8AKQlMYArenlG69isk5YCpkpokhfrcHiF15cvgkV8r3Z/Gw1b5nUa8xvmSCrnSOcowZVPFomp9f2DARuYi7h1qTdAAlclLbr9upR/SY687SMmOiYT50JGQqKT0AE6c+ewj1sOGTL8kgKBqDIl5GSFUbmFq92uVRmgagi3WqK5hXVUCvEPAAiXlXKLjyNkGt59I05pzKNseIFgpsHW0lr6qFhdlL3oAH3FgzhSUw+y6tUVvIDrc9VJIw3E+6ucu1DZkiqZK/I1ColuTWNv+hVc1T996acfhS1PlzzfeuLSLehDzI/lusavaBmSc3C8oq074TvvKDbPOZTisgBO2IVaAJg2oRsNgh+rVO3hrl70lVZ8HNv9Nb8zKQu9lAmJHRBxCHJJ/QQRVIN5g3ai2HLxND94ZkaOe+pByYeZ8mcVVWSUw9WAI8QAJ6Gidn2TBb1ErBRZFUBuiquPrRt1AG284n+W+xRJwLwP1Ikun2VXoBe+1tkzyMTvTjAeYCsiMI70mfKGeOtTwRhWPQ3UfW4hrIn2HbP7zWD1W6tDDs6E7tzNsDxAvC2r2XYEZTYknWcvglXUUcUoju1AAADAAAPyQAAAjVBmwhJ4Q8mUwId//6plgCQ/JRoP8+u8u4A7V0AvuDgNtINkDeBrYpRgQc8P8/2TrBbqPVADT9YxkPzvGPAJ7kfmm2qkJRgjOr05o06IwTcQ6anKS0gYlKeZJF9+SQC79xnUhkU3j6en98i4uxbkp6IS3Ssvs/D4rgMugvs/aZecKeuBcsNRo3Oal5ceWR8arP/bBrrCjHU/t3KsK1zz/s/+UW2BdmNH0g/Sh+8OmVGdA0mZkDtns6QyCQLby8Fz2zZx2kyIuwsOWa0CRD4Yjgf9eNh2h/vm9wevRLEcDgRRWiv1pG4VqdpohNY+55RhYX5xlXdb6nLp6d8ershtOmwJof0BVeB7GjMiIvImnBZV1Cf71rq+++yj62W3iiD9EmKxkhLkGywmKSoLE8nNSDnjJOQa7oXkQ9Qwg3ig7Fjmll2f0+qTC158Y6q+cn9CxfRBFDHOEN8tKG/xeZiP1UAbHA/iJsVnThrknMslTMiGJBd8/Bx+AGtzFDTMKPiyb86uII302da+9m1sjBjuGnbyDcJPSN+MqgJNUXHaUVQ2Cx8B+8t0SM2k4Q1O63eOJRJxbliuSHbvm9UGjhvnhD+FQzEg8CV4UcFsjkkY+OsTrVboYAkYqY5gQhUt6tTTXZi2nlVKVXWS57byR8zHGHx/Yyj4b/uoNM7wuI6KsapxSmVPWgncJqKPPw750QDqeWW64vMhINrabIoVO78BuCeK2Bahmx6spFst6ZAAAADAAADAOCAAAACI0GbKUnhDyZTAh3//qmWAHf9uB/f59OISuAPhQZRKFvwwRn4zQpcne71+cP0FRR7AYy/nL5qPf/mVlG+d//Qdp/81vddAcpuFkWCchJD7U5wyhiVI+HOXNBBdFshGLqndFI6Aamzgqlme+wkMbKCSa78Zn1Xfd4JuLjrKsLFrvo+tDKMUhcZKyBz4Ofr9GeFdg2Doo8AOYJxf6Id2ItpQlfBnRVsfFx0U+SgmMwi4nw8DPCgwIhhLoZebTHsk6m+ajuDcQ6AMSsrfXa47cBRml9NawRLrCnOLLbp+7/jkc7OHXYQY4v4uqq6d8vDUNexHNXF1/86nWkvplvtc5mc4CttbCwD4o1ijkcoGAD266JNfJ+XtGWljhGEFOwKUYreGjBb3MC1KKlfPbPHZXhTF4KFONu2Cc7BHSrkBrE1oqOZSe/c13Wte70nMWVJ0ClyhdGny9pecKQAI1alFPPEZNpXYLynqJB+TxufwNCCF0rFWgLxS4OGtXOpNgsxZR44QaPuvK4VoPsZ0eTMVU8XBQi/2kQU5YWF+3De9zwzXmnPUGI4GRgJvEaf613N1+ZHgW9qdpIlm9jjAXZPwrfYGouMOtsgkTLHWinPtgJoRxTgBYtjUXveSGbGj+VcngOPXpRvJJUmtDa4Mjpn9iovu7j8aASsDpiHPVIJ+lgqB+Bo5WpEuiIBAXGAm+g1zPWkSZ+O/FncpwATpCAAAAMAAAMAJeAAAAI6QZtKSeEPJlMCHf/+qZYAYz20MD9nwhbJoAia1ulaVp9FZNZQL5ILhq4YaIdhhjZK3JQRyIGPLGmEkag84qQcQicrromZbY3tKyYwMgeHOx6f09fGEOi/6skvIBS5VS4HHgkmPzYCZ/njeziP/y+TsT03lv4vCyCuiwX+LBI2PnavddI1PCuYDb1Jo+44ZAQEXNhYhOIqsZdQz+9cVKploflCDuyDmHMQ5qd9HFjKRfFOzi+jCv2GV4PEWkdrGg0EI+KoS3dRE92JbOEY7L8eAT9+Ce5Zu+OHDku/lhO/UeIrPngE78Tjotd9aJ6c6rhAy5W8jPy2vckd4VnoJPgq1jh9tkeRjY5IFMzMdSL4YViQYefvDjmbrFXGeT0IOGckx6fE53/SlKOidwGLo/0jgwcHQeaJJmdjgOESvpxSY06Bit9U9jWW3tGykTNOznegR22U38Kk8GkPUeNpM2YnIrIziAI1a3QcxCNx3UmU3PtuHU1tjUFmyMRKwnkM91j/tLs1synm4AABAdBJndtL+Ny1Lk/FfYbvKn6Fv/FaWq7fsebHyhsQeEs47xViVnCbHKspRTX3dTWhY6I+hooIBdqRerHZ9G0FLb3vIFc7dwO23Y1+YbqRkufjE6sGLg7lhmp9FPXEfZcIyAdgr/wTkcLIyAgjtu5yrjATSlV8Irc6VzdZQAh+1yLGU/PvjlhPHKK7di9WwuMMe/vx65/QJrJsXhXDBcBx6+K1kpWgHpAAAAMAAAMAACThAAAASkGba0nhDyZTAh3//qmWAGKudlLVvOaxd1YvmvWeQ3q6f6m4GtXDQCuJ2MnD/zmgqW4TlLo4YJCLMLsyKTQBilpAAAADAAADAEvAAAACU0GbjEnhDyZTAh3//qmWAGM9tByboLLbD5+05dLUzUu0JH5voUUGNsNGiYoBivhpXGLENOLqMfQD5iWYAMkjpDvJfFROC54oWDKY9A88+B9t/W2i7mrB6IGrAzfDW59GdK5z6AqETbMhk7pP8f5/skVnOSBlSB4IEKt+nsmiT6Pqkvaf6CWuvZ/hqyXWFZhDsC9X+PEHwnlPODEPwFgRkXIKaj+eFkKHH6mFQF6VzRLAYI5Kf/uLP1HJ/KBxIkal5NZVKaEfUlVc4M8Rbyx2KKA75hoKOoEniDtqP8zu2uBdBEkOAW4JN5XqaCBd+oH3iqbjQBj/1bZbz9WWu98mYrL2oLE1ACB4ktn9lF4R0IIOp3eellGendz3SHRlPaD9xYhMwX9pexC51QWObGYONFn6zWZ/1ABFx4aim6mJO8FBZSNHvQedO/4gNLvE78ifVCBr8tBdcUr55WlMY27xj2AkRPYkqE7/4wAw9N0e79VmpPAP+d5zSl46qsmk2zCk6dnGSshqBeVh9R4BdVOOWYbiIOE81CL28W6V4mmn5xV4fUp0uam2tfBN2ZitmoPQrVejci6/HL7qKBt7KBqrwU/bDuf173iIeDQCw/FZsSuA8fe0Bltirwdp+6wvPOmxIlRXL1+nhGjW/3yGRzNfu1AjDmnLvsCGWUkZDx8lv0CR01Oy/nkhOgCmYhLV9u0wl+mRm49x+c0ht8hInLXwVgTxipYT+7lXVeXAjcxz5SwiOEGNJK6SIhfEeNAthn8EY6jznkp18SQAAAMBFpcAqlcfd3AAAAIXQZutSeEPJlMCHf/+qZYAAAMDLe3A/6dklcA+V0AvuUdeR3tP22srYm/OEmzdWr/6dtTKDmfAPw7WKMn+qiVirdSucbNnsDJ5TvZ5aO3xRYwQH1kAHM+kRnFznyBU5iUUc6iOmKOBn7OkyhDoaelua++KTrCvcBLGuLIhNUul6mktSNRr0RU6m4XmqbPI2jK7g9N6HpqvkwkkyDmkHFcgLbxjjQBafQhThlmJNbCEeDyBRfOoyrLXv9s1fyK4tjzx+mWDgQGYmrCBhDrhXYJDD+5VTfzkJKrLCdYpqgvXkHY7InE0q2+vPqz9PsnZ84qwCEK/QC5eDgieJ+2s9NEwnz0bScy33QB96YARKjr7kMJhlIA8fxGgnV2UD51Ykpwmuq9n+bp/P7dp8IPM2SDbckY+tw0K/RJVxkTQuFf6M0HVMExxJJPTz3j5Ibu9/sZ1Nt4QAKf+7bDpjLP7PgOh8uRXgCvZg8m3BgSYKCF0sGfOlrgcWdpYLaUryDWnB6UrHmr/V45Z50Gs/U9ys4wo0mM01P8jXt8Oe3t9PjGqIn70La/SSr+kA0XfkvNdZSZDaadABS+HKCRPOiH57n9nMvPY45o4bkKysAM1vepLN3PrmUYNUnZM2O7xfF2xfyqhgezkEKE2O0BwIAv2ZpGy7xSQuLUML4ghBCB7Yn1YRybaSv9eNiaGVDMz0mFH8U7OAAADAAB3QQAAAjRBm85J4Q8mUwId//6plgAAAwKp8A4NtZyQUW5oXIQb3AHFPd+Bnzt5YyBYLfl/i/k1AC01mJBe7szMHBYWrF1CCTXv7CAfwY/kaDTFIdOOvQtoegOLZ601NEaWRper/p8fYLnwNqYiA6Zu53jXDA1I4EQqPu93yv8vvOF04OIO0Fkx5zUNsQeuJd54S+JpPmQI/4PzSlbf2jHV4iUUJoyXbu7t2ibbcrCjirUrqNEGKherHzHOjxhnpxQIqymjI1U7EcAqmdeLXTF3jHw6tsAVOmVEjU0j5rIN9ZkTu4zlOj8zJ9kWC2NbOr1FE93LOxe9yx4JX1W7u5hopBKRUu+03rfQI/XfrsH28/3vTArvnl3zYFAr1muDUmKAE50d6G0+tcX8/xreTps1ECuguOhBEhnx3Z8WTFoTlBouL3hplkystnZRwPf9JKlfIgzp4DU2igNKqWU3uBkJttAWa1/69PQbpGgiaLltyxsTrad9g60cdjaiOQTLK2sSisMYr2DfPwKaGJF1Sx1IWp3fqp2rPUtsQgUiNtTMja0HIvpDVA+i+xXg6mLqcNZ5vK7jiwuyStf8VQaksnTN5IqGn+Z8gX47cXZZuPP/zocFeAd3r2sB3WjFq4og0sYghq4fXLa65Wx5zHLfEn50kWH76I1vZLfTlEYb4bs1E+6BK23glz3NO9yq37gyIr7m6OodmJkzhgJ/MWDeZ10aP3V8sZYj8wPd1+ymEbtterri0a+7CAAAI+EAAAI/QZvvSeEPJlMCG//+p4QAAAMAGx4TzQsrri3kGR/6CeuCrWUEuLdFPoKYYl/qpp1aGKvACuomcrh5ZPDLruE08UlfQZaqFbmuzbA3MZ4TSIZ4LxDWqmvGwDnehqR+TGg2mxncGtwDbTbmuP9XT4Rfi8rAbOHJsRKMsCpAO5ieysOtm6jPyVrMDJMGX5qRywEVGhCoP0oO9ZAEKUNzyJTthHDFgmLqBuho0WZJ/uVLcSNP2+SEj/LkW6NWniTVUeMHeYHjUsCGcpHBrJiGD7W6pjvs5aJeJv/DQnMGr1J0WAUN0eaa27lZA8AqYIQ0toi+V4Qh8+vI1tMcRupCIVeUbftPCCA2ewZBBBfjAwnIIMmUwcwb9H1OwGN8UE7TMbOKL5kmy8pTqu5sxQ+1lsznd+lACJlDOS6IX1uiWdrwNWkJ8cBSgn2llYWr28rNzB+rl8G2yOX3DySo/BiUVKNGsK68ydkX+NMqtKAQ5VitrN8fSwL6AfQF54Zqb76SH7ul06GX5J+kvMAgw1DGPLnFX/vYiFrMcnq4eMq9yUk3r9oMQfKki9jDB77fYOVsDTRl+vHpqsUc7u/u0ffgPtz3ue2CJhDNWmlIEDb6lRX7i8e4GIoqN4bFFvckJCORvoma/OLbyc720JfF1wLHatX7r/QAqBZfIvtAXHjYQDFnJfvL8BJDv1x9aUXq4h9Ydlq1Z/5zALjnhYvPhIqPp1nyh0A2fagvDjhYedWHSufZFGDHncV8y0DRZXp94pyDAZUAAAIaQZoRSeEPJlMFETwv//6MsAAAAwAAAwABjOE6a745fxvdzByxTEYrZTPJFLVi8CSvIWV0x8lACwUXFXBDyb30/XMyUbgGMErjTb2S5Rs68BYfxsGCxBJVpODLk9c/dmBXol42L7cSJWbVjiI5g8uFezRnEiejiHd5v8FLjKaaBrZL1nVyKOIh05BSc2B22Mfuy9EJ8yJtZqMwv9wOHke7uwDzmJ8t7vYYAl+eqOsmh7GFDTsl/lGWzOxG+83A0prcTE9GBqX/Gal9GCfGgsyEbUrKCx+0L7hcfBAyvKpbJKWt70z9v6syEaO7soBC3rFhWsteEY8UR9iSTDEf/hojlfaimOv7zWUXWDcxZpjDvbWVBRx/XSkc/3kP/g/2fU8hYVAu9ITGic7J37TxXVdgr7XvoCu0eyp0d94V6hj1sZgaaxDzkXm7dHyjHZakRcojfB1r6Uhf8X8FrflNZ35bysk0CAhgWNmjOL4zj0PGbzA2gkJq00XJ3Wunvxi+v2N1dO34M7cQUccm8t4kd/O9dwGDbCyQl/aHN0YBs+mGCMMLsy2rUCur6rpRMnbyIWST5iCbCNnrFRldBTu0EAtI2jUQt428l34eHZC1TkuyJOQxIeMiJlEDPgBAgZWmFPbrLnb6dOD0N3fb52wp/8DmPxzkmcf/otkHCR7LAh8h8IeYi9jF5rFv4pWGVE80Ao5Iwha+RgQVwwWZrQAAAlMBnjBqQv8AAAZg3+UaNv20GubAABBX5A9d8/kZOD80HoCyPYXHGYNnFQArN+WMEPA5+OlEbYqy62IeU1EjpuZxtA1IYwAdzCt+BXmbN9+X43IRB84QMqU+w+7IwClxBcX7Muxt+I6D++GOJvbLRekX/uz6NnZf4dkiuCmHgKnpQPvD/Bfo4pN2soVz7UJFAi4gQN1HwHiEAHyfdkpJ1G81LHocVrUaqDfAFgldv9wMk0qcAHnTkJzZRTXBYECYq8nguJV4O6Lb23GaLO9pXLa+vKhz7nFecRopU6cHYz0+1IL1XOEMEOC7ZGzOTiuBNAMuT471q+ZR0bq3xQ9DsvL1xpBaOXnEdMQApRAy80eQHZclR/JCYxc5Kza5Y5wxuSMWEvYbFzE7jD7B2+2Yk0IbODw404GCJ+d4pdS7fwrLj16WRnhBPS18FgkD5X/G5CqH3gVa4Cfisaefd4+HpIwabCm5jmellDB6had/v48EvntRVRg/aiZKOkZ1IASp7+7xH0aHKsOD5P3nwCRPQV+viSG2ocEl1HoZKlINsuDwW838VOYYUMr1/j6UqsV/vt7uOx6VabaII//WPdT8Ka3qu/mG6x646raVeo9Cgg8Q+IqJF/SvYg/yzhSlRu2xr4z4d77W+HJW/9/Nsx+W6CBg/wMhrzJGbf8mspWbDlg1lTsbjbKnMNZFMNe+vXjY0g9miFUihTmzLxOJjiVaRGPLFxiRD4RCLao6tpbJlz4gqith8mSfWM5gmlsHqNylYilZPIWlcW+PpeTnMeKhHw9AoKaAAAADc21vb3YAAABsbXZoZAAAAAAAAAAAAAAAAAAAA+gAAA4QAAEAAAEAAAAAAAAAAAAAAAABAAAAAAAAAAAAAAAAAAAAAQAAAAAAAAAAAAAAAAAAQAAAAAAAAAAAAAAAAAAAAAAAAAAAAAAAAAAAAAAAAAIAAAKddHJhawAAAFx0a2hkAAAAAwAAAAAAAAAAAAAAAQAAAAAAAA4QAAAAAAAAAAAAAAAAAAAAAAABAAAAAAAAAAAAAAAAAAAAAQAAAAAAAAAAAAAAAAAAQAAAAAMgAAACPAAAAAAAJGVkdHMAAAAcZWxzdAAAAAAAAAABAAAOEAAAEAAAAQAAAAACFW1kaWEAAAAgbWRoZAAAAAAAAAAAAAAAAAAAKAAAAJAAVcQAAAAAAC1oZGxyAAAAAAAAAAB2aWRlAAAAAAAAAAAAAAAAVmlkZW9IYW5kbGVyAAAAAcBtaW5mAAAAFHZtaGQAAAABAAAAAAAAAAAAAAAkZGluZgAAABxkcmVmAAAAAAAAAAEAAAAMdXJsIAAAAAEAAAGAc3RibAAAAJhzdHNkAAAAAAAAAAEAAACIYXZjMQAAAAAAAAABAAAAAAAAAAAAAAAAAAAAAAMgAjwASAAAAEgAAAAAAAAAAQAAAAAAAAAAAAAAAAAAAAAAAAAAAAAAAAAAAAAAAAAAABj//wAAADJhdmNDAWQAH//hABlnZAAfrNlAyBJ+4QAAAwABAAADAAoPGDGWAQAGaOvjyyLAAAAAGHN0dHMAAAAAAAAAAQAAABIAAAgAAAAAFHN0c3MAAAAAAAAAAQAAAAEAAAAoY3R0cwAAAAAAAAADAAAAEAAAEAAAAAABAAAYAAAAAAEAAAgAAAAAHHN0c2MAAAAAAAAAAQAAAAEAAAASAAAAAQAAAFxzdHN6AAAAAAAAAAAAAAASAAAIbQAAAlkAAAJLAAACLQAAAk0AAAJPAAACEgAAAmYAAAI5AAACJwAAAj4AAABOAAACVwAAAhsAAAI4AAACQwAAAh4AAAJXAAAAFHN0Y28AAAAAAAAAAQAAADAAAABidWR0YQAAAFptZXRhAAAAAAAAACFoZGxyAAAAAAAAAABtZGlyYXBwbAAAAAAAAAAAAAAAAC1pbHN0AAAAJal0b28AAAAdZGF0YQAAAAEAAAAATGF2ZjU3LjgzLjEwMA==\" type=\"video/mp4\" />\n",
              "                 </video>"
            ],
            "text/plain": [
              "<IPython.core.display.HTML object>"
            ]
          },
          "metadata": {}
        },
        {
          "output_type": "stream",
          "name": "stdout",
          "text": [
            "\n",
            "[PI]final policy: \n"
          ]
        },
        {
          "output_type": "display_data",
          "data": {
            "text/html": [
              "<video alt=\"videos/gw.mp4\" autoplay\n",
              "                      loop controls style=\"height: 400px;\">\n",
              "                    <source src=\"data:video/mp4;base64,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\" type=\"video/mp4\" />\n",
              "                 </video>"
            ],
            "text/plain": [
              "<IPython.core.display.HTML object>"
            ]
          },
          "metadata": {}
        },
        {
          "output_type": "display_data",
          "data": {
            "image/png": "[encoded data removed]",
            "text/plain": [
              "<Figure size 432x288 with 1 Axes>"
            ]
          },
          "metadata": {
            "needs_background": "light"
          }
        }
      ]
    },
    {
      "cell_type": "markdown",
      "metadata": {
        "id": "2V1QdoH-xFX0"
      },
      "source": [
        "# Part 2 - Tabular RL"
      ]
    },
    {
      "cell_type": "markdown",
      "metadata": {
        "id": "Qf51VhoPxbV4"
      },
      "source": [
        "## Question 2.1\n",
        "\n",
        "The code below collects two datasets of transitions (containing states, actions, rewards and next states) for a discrete MDP.\n",
        "\n",
        "For each of the datasets:\n",
        "\n",
        "1. Estimate the transitions and rewards, $\\hat{P}$ and $\\hat{R}$.\n",
        "2. Compute the optimal value function and the optimal policy with respect to the estimated MDP (defined by $\\hat{P}$ and $\\hat{R}$), which we denote by $\\hat{\\pi}$ and $\\hat{V}$.\n",
        "3. Numerically compare the performance of $\\hat{\\pi}$ and $\\pi^\\star$ (the true optimal policy), and the error between $\\hat{V}$ and $V^*$ (the true optimal value function).\n",
        "\n",
        "Which of the two data collection methods do you think is better? Why?"
      ]
    },
    {
      "cell_type": "markdown",
      "metadata": {
        "id": "eWSyewG2EZpJ"
      },
      "source": [
        "### **Answer**\n",
        "\n",
        "Based on experimentation it seems that the optimal policy obtained by sampling the MDP using uniform sampling is closer to the real optimal policy. \n",
        "\n",
        "This matches the intuition that unfiromly sampling states and actions can be better than sampling states by running a random policy. In order to get a good approximation of the optimal policy, we need good estimates mostly of the states with higher rewards, because they'll end up being selected by that optimal policy. I.e for states with value 0, we don't really need to get better approximations, because their value will still be 0. \n",
        "\n",
        "In this case where most of the states have 0 value, is more likely to select the ones different than 0, by just taking samples uniformly rather than following a random policy. I.e it's more probable to just sample one state than to actually sampling a set of N actions that end up in that state."
      ]
    },
    {
      "cell_type": "code",
      "metadata": {
        "id": "8lNPhB28EcGd",
        "colab": {
          "base_uri": "https://localhost:8080/",
          "height": 1000
        },
        "outputId": "21d2d853-9ac4-4961-b5ef-2b12e35bee5b"
      },
      "source": [
        "def get_random_policy_dataset(env, n_samples):\n",
        "  \"\"\"Get a dataset following a random policy to collect data.\"\"\"\n",
        "  states = []\n",
        "  actions = []\n",
        "  rewards = []\n",
        "  next_states = []\n",
        "  \n",
        "  state = env.reset()\n",
        "  for _ in range(n_samples):\n",
        "    action = env.action_space.sample()\n",
        "    next_state, reward, is_terminal, info = env.step(action)\n",
        "    states.append(state)\n",
        "    actions.append(action)\n",
        "    rewards.append(reward)\n",
        "    next_states.append(next_state)\n",
        "    # update state\n",
        "    state = next_state\n",
        "    if is_terminal:\n",
        "      state = env.reset()\n",
        "\n",
        "  dataset = (states, actions, rewards, next_states)\n",
        "  return dataset\n",
        "\n",
        "def get_uniform_dataset(env, n_samples):\n",
        "  \"\"\"Get a dataset by uniformly sampling states and actions.\"\"\"\n",
        "  states = []\n",
        "  actions = []\n",
        "  rewards = []\n",
        "  next_states = []\n",
        "  for _ in range(n_samples):\n",
        "    state = env.observation_space.sample()\n",
        "    action = env.action_space.sample()\n",
        "    next_state, reward, is_terminal, info = env.sample(state, action)\n",
        "    states.append(state)\n",
        "    actions.append(action)\n",
        "    rewards.append(reward)\n",
        "    next_states.append(next_state)\n",
        "\n",
        "  dataset = (states, actions, rewards, next_states)\n",
        "  return dataset\n",
        "\n",
        "\n",
        "# Collect two different datasets\n",
        "num_samples = 500\n",
        "env = get_env()\n",
        "dataset_1 = get_random_policy_dataset(env, num_samples)\n",
        "dataset_2 = get_uniform_dataset(env, num_samples)\n",
        "\n",
        "\n",
        "# Item 3: Estimate the MDP with the two datasets; compare the optimal value\n",
        "# functions in the true and in the estimated MDPs\n",
        "def estimate_mdp(dataset):\n",
        "  # Assuming that we sample all states and actions of the MDP\n",
        "  number_of_states = np.max(dataset[0]+dataset[3]) + 1\n",
        "  number_of_actions = np.max(dataset[1]) + 1\n",
        "  # Estimated rewards\n",
        "  R = np.zeros([number_of_states, number_of_actions])\n",
        "  # Count of (s,a,s') transitions\n",
        "  N = np.zeros([number_of_states, number_of_actions, number_of_states], dtype=np.int64)\n",
        "  for transition in zip(*dataset):\n",
        "    state = transition[0]\n",
        "    action = transition[1]\n",
        "    reward = transition[2]\n",
        "    next_state = transition[3]\n",
        "    N[state, action, next_state] = 1\n",
        "    R[state, action] += (1/N[state, action].sum()) * (reward - R[state, action])\n",
        "  # Estimated transitions\n",
        "  P = np.nan_to_num((N / N.sum(axis=2)[:, :, np.newaxis]))\n",
        "  return P, R\n",
        "\n",
        "# Estimated MDPs\n",
        "P1, R1 = estimate_mdp(dataset_1)\n",
        "P2, R2 = estimate_mdp(dataset_2)\n",
        "\n",
        "# Evaluation\n",
        "# Optimal policy is obtained by Policy Iteration\n",
        "optimal_policy, optimal_v = policy_iteration(env.P, env.R)\n",
        "policy_1, v_1 = policy_iteration(P1, R1)\n",
        "policy_2, v_2 = policy_iteration(P2, R2)\n",
        "\n",
        "print(\"||V1* - V*|| =\", np.linalg.norm(optimal_v - v_1, ord=np.inf))\n",
        "print(\"||V2* - V*|| =\", np.linalg.norm(optimal_v - v_2, ord=np.inf))\n",
        "\n",
        "print(\"Number of states in which P1* and P* differ: \", np.sum((optimal_policy - policy_1) != 0))\n",
        "print(\"Number of states in which P2* and P* differ: \", np.sum((optimal_policy - policy_2) != 0))\n",
        "\n",
        "print(\"P*\")\n",
        "render_policy(env, optimal_policy)\n",
        "\n",
        "print(\"P1*\")\n",
        "render_policy(env, policy_1)\n",
        "\n",
        "print(\"P2*\")\n",
        "render_policy(env, policy_2)"
      ],
      "execution_count": 70,
      "outputs": [
        {
          "output_type": "stream",
          "name": "stderr",
          "text": [
            "/usr/local/lib/python3.7/dist-packages/ipykernel_launcher.py:68: RuntimeWarning: invalid value encountered in true_divide\n"
          ]
        },
        {
          "output_type": "stream",
          "name": "stdout",
          "text": [
            "||V1* - V*|| = 8.801722037149576\n",
            "||V2* - V*|| = 0.660868081057\n",
            "Number of states in which P1* and P* differ:  13\n",
            "Number of states in which P2* and P* differ:  9\n",
            "P*\n"
          ]
        },
        {
          "output_type": "display_data",
          "data": {
            "text/html": [
              "<video alt=\"videos/gw.mp4\" autoplay\n",
              "                      loop controls style=\"height: 400px;\">\n",
              "                    <source src=\"data:video/mp4;base64,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\" type=\"video/mp4\" />\n",
              "                 </video>"
            ],
            "text/plain": [
              "<IPython.core.display.HTML object>"
            ]
          },
          "metadata": {}
        },
        {
          "output_type": "stream",
          "name": "stdout",
          "text": [
            "P1*\n"
          ]
        },
        {
          "output_type": "display_data",
          "data": {
            "text/html": [
              "<video alt=\"videos/gw.mp4\" autoplay\n",
              "                      loop controls style=\"height: 400px;\">\n",
              "                    <source src=\"data:video/mp4;base64,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\" type=\"video/mp4\" />\n",
              "                 </video>"
            ],
            "text/plain": [
              "<IPython.core.display.HTML object>"
            ]
          },
          "metadata": {}
        },
        {
          "output_type": "stream",
          "name": "stdout",
          "text": [
            "P2*\n"
          ]
        },
        {
          "output_type": "display_data",
          "data": {
            "text/html": [
              "<video alt=\"videos/gw.mp4\" autoplay\n",
              "                      loop controls style=\"height: 400px;\">\n",
              "                    <source src=\"data:video/mp4;base64,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\" type=\"video/mp4\" />\n",
              "                 </video>"
            ],
            "text/plain": [
              "<IPython.core.display.HTML object>"
            ]
          },
          "metadata": {}
        }
      ]
    },
    {
      "cell_type": "markdown",
      "metadata": {
        "id": "UKINsa_yGLGL"
      },
      "source": [
        "## Question 2.2\n",
        "\n",
        "Suppose that $\\hat{P}$ and $\\hat{R}$ are estimated from a dataset of exactly $N$ i.i.d. samples from **each** state-action pair. This means that, for each $(s,a)$, we have $N$ samples $\\{(s_1',r_1, \\dots, s_N', r_N\\}$, where $s_i' \\sim P(\\cdot | s,a)$ and $r_i \\sim R(s,a)$ for $i=1,\\dots,N$, and\n",
        "$$ \\hat{P}(s'|s,a) = \\frac{1}{N}\\sum_{i=1}^N \\mathbb{1}(s_i' = s'), $$\n",
        "$$ \\hat{R}(s,a) = \\frac{1}{N}\\sum_{i=1}^N r_i.$$\n",
        "Suppose that $R$ is a distribution with support in $[0,1]$. Let $\\hat{V}$ be the optimal value function computed in the empirical MDP (i.e., the one with transitions $\\hat{P}$ and rewards $\\hat{R}$). For any $\\delta\\in(0,1)$, derive an upper bound to the error\n",
        "\n",
        "$$ \\| \\hat{V} - V^* \\|_\\infty $$\n",
        "\n",
        "which holds with probability at least $1-\\delta$.\n",
        "\n",
        "**Note** Your bound should only depend on deterministic quantities like $N$, $\\gamma$, $\\delta$, $S$, $A$. It should *not* dependent on the actual random samples.\n",
        "\n",
        "**Hint** The following two inequalities may be helpful.\n",
        "\n",
        "1. **A (simplified) simulation lemma**. For any state $\\bar{s}$,\n",
        "\n",
        "$$ |\\hat{V}(\\bar{s}) - V^*(\\bar{s})| \\leq \\frac{1}{1-\\gamma}\\max_{s,a} \\left| R(s,a) - \\hat{R}(s,a) + \\gamma \\sum_{s'}(P(s'|s,a) - \\hat{P}(s'|s,a)) V^*(s') \\right|$$\n",
        "\n",
        "2. **Hoeffding's inequality**. Let $X_1, \\dots X_N$ be $N$ i.i.d. random variables bounded in the interval $[0,b]$ for some $b>0$. Let $\\bar{X} = \\frac{1}{N}\\sum_{i=1}^N X_i$ be the empirical mean. Then, for any $\\epsilon > 0$,\n",
        "\n",
        "$$ \\mathbb{P}(|\\bar{X} - \\mathbb{E}[\\bar{X}]| > \\epsilon) \\leq 2e^{-\\frac{2N\\epsilon^2}{b^2}}.$$"
      ]
    },
    {
      "cell_type": "markdown",
      "metadata": {
        "id": "fKmdulLaMoiN"
      },
      "source": [
        "### **Answer**\n",
        "\n",
        "From the simulation lemma, if that holds for any state, then it will also hold for the state in which the difference $\\hat{V}(s) - V^*(s)$ is maximum, so\n",
        "\n",
        "$||\\hat{V}-V^*||_{\\infty} \\leq \\frac{1}{1-\\gamma} \\max_{s,a}\\bigg|R(s,a) - \\hat{R}(s,a) + \\gamma \\sum_{s'} (P(s'|s,a) - \\hat{P}(s'|s,a))V^*(s')\\bigg|$\n",
        "\n",
        "For each state-action pair we have N iid samples $\\{r_i\\}$ samples which are bounded in $[0,1]$. Let $\\hat{R}(s,a) = \\frac{1}{N}\\sum_i r_i$. Then by Hoeffding's inequality, we have that, for all state-action pairs, for any $ϵ>0$\n",
        "\n",
        "$\\mathbb{P}(|\\hat{R}(s,a) - \\mathbb{E}(\\hat{R}(s,a)| > \\epsilon) \\leq 2e^{-2N\\epsilon^2}$\n",
        "\n",
        "$\\mathbb{P}(|\\hat{R}(s,a) - R(s,a)| < \\epsilon) \\geq 1 - 2e^{-2N\\epsilon^2}$\n",
        "\n",
        "The probabilitiy of the maximum being smaller than some $\\epsilon$, is the probability of the rewards in all state-action pairs being smaller than that $\\epsilon$. Since the reward in each state-action, only depends on that state-action because of the Markov property of MDPs, all the rewards are independent and we can take the product of their probabilities.\n",
        "\n",
        "$\\mathbb{P}(\\max|\\hat{R}(s,a) - R(s,a)| < \\epsilon) \\geq (1 - 2e^{-2N\\epsilon^2})^{SA}$\n",
        "\n",
        "The same reasoning can be done for the state transitions. For each state $s_n$ we can define the random variable $\\mathbb{1}(s'=s_n | s,a)$, note that for each of those we have N iid random samples. All of these variables are trivially bounded in $[0,1]$. Then, we can apply again Hoeffding's inequality. For each state-action pair and for any $ϵ>0$\n",
        "\n",
        "$\\mathbb{P}(|\\hat{P}(s'|s,a) - P(s'|s,a)| \\leq \\epsilon) \\geq 1-2e^{-2Nϵ^2}$\n",
        "\n",
        "Then because of Markov property, the same independendency hypothesis holds for the state transitions\n",
        "\n",
        "$\\mathbb{P}(\\max|\\hat{P}(s'|s,a) - P(s'|s,a)| \\leq \\epsilon) \\geq (1-2e^{-2Nϵ^2})^{SA}$\n",
        "\n",
        "Note now that since $R(s,a)$ is bounded by 1\n",
        "\n",
        "$V^*(s) = \\mathbb{E}[\\sum_t\\gamma^tr(s_t,a_t|s_{t-1}=s_i, \\pi^*)] \\leq \\mathbb{E}[\\sum_t \\gamma^t] = \\frac{1}{1-\\gamma}$\n",
        "\n",
        "Then\n",
        "\n",
        "$||\\hat{V}-V^*||_{\\infty} \\leq \\frac{1}{1-\\gamma} \\bigg[\\max_{s,a} |R(s,a) - \\hat{R}(s,a)| + \\frac{1}{1-\\gamma}\\max_{s,a}|\\sum_{s'}P(s'|s,a) - \\hat{P}(s'|s,a)|\\bigg]$\n",
        "\n",
        "$... \\leq \\frac{1}{1-\\gamma} \\bigg[\\max_{s,a}|R(s,a) - \\hat{R}(s,a)| + \\frac{1}{1-\\gamma}\\sum_{s'} \\max_{s,a}|P(s'|s,a) - \\hat{P}(s'|s,a)| \\bigg]$\n",
        "\n",
        "Assuming that next states and rewards are independent, we can apply the bounds obtained by Hoeffding's inequality. The intersection of both maximums being bounded by $\\epsilon$ is the product of both probabilities\n",
        "\n",
        "$\\mathbb{P}(||\\hat{V}-V^*||_\\infty \\leq \\frac{1}{1-\\gamma}[\\epsilon + \\frac{\\gamma}{1-\\gamma}\\sum_s'\\epsilon]) \\geq (1-2e^{-2N\\epsilon^2})^{2SA}$\n",
        "\n",
        "Then with probability at least $(1-2e^{-2N\\epsilon^2})^{2SA}$\n",
        "\n",
        "$||\\hat{V}-V^*||_\\infty \\leq \\frac{\\epsilon(1+\\gamma(s-1))}{(1-\\gamma)^2}$\n",
        "\n",
        "Taking the following identity, we can express this in a more compact form\n",
        "\n",
        "$1-\\delta = (1-2e^{-2N\\epsilon^2})^{2SA}$\n",
        "\n",
        "$(1-\\delta) ^{\\frac{1}{2SA}} = 1-2e^{-2N\\epsilon^2}$\n",
        "\n",
        "$\\epsilon = \\sqrt{\\frac{\\log(2) - \\log(1-(1-\\delta) ^{\\frac{1}{2SA}})}{2N}}$\n",
        "\n",
        "Then\n",
        "\n",
        "$||\\hat{V}-V^*||_\\infty \\leq \\frac{1+\\gamma(s-1)}{(1-\\gamma)^2} \\epsilon(S,A,N,\\delta)$ with probability at least $1-\\delta$"
      ]
    },
    {
      "cell_type": "markdown",
      "metadata": {
        "id": "tpqwCBG2MwxO"
      },
      "source": [
        "## Question 2.3\n",
        "\n",
        "Suppose once again that we are given a dataset of $N$ samples in the form of tuples $(s_i,a_i,s_i',r_i)$. We know that each tuple contains a valid transition from the true MDP, i.e., $s_i' \\sim P(\\cdot | s_i, a_i)$ and $r_i \\sim R(s_i,a_i)$, while the state-action pairs $(s_i,a_i)$ from which the transition started can be arbitrary.\n",
        "\n",
        "Suppose we want to apply Q-learning to this MDP. Can you think of a way to leverage this offline data to improve the sample-efficiency of the algorithm? What if we were using SARSA instead?"
      ]
    },
    {
      "cell_type": "markdown",
      "metadata": {
        "id": "mbYTKetHOYU_"
      },
      "source": [
        "### **Answer**\n",
        "\n",
        "Yes, the setting described is exactly what Dyna-Q does. I'd alternate between learning and planning steps. The learning steps are regular Q-learning updates. Between those steps, one can sample states and actions from the dataset and use the estimates $\\hat{P}(s'|s,a)$ and $\\hat{R}(s,a)$ for making updates of the Q function, with the same idea as Q-learning (the only difference is that the reward and transition is simulated and not returned by the \"real\" environment). This is possible for Q-learning because it's an off-policy algorithm.\n",
        "\n",
        "On the other hand, if we were using SARSA we cannot do the same, since SARSA updates rely on having a target policy close to the behavioral policy, which is known as on-policy control. For SARSA to be able to include planning steps, we need that the state-action pairs from the dataset, to follow a policy \"close\" to the behavioral policy."
      ]
    },
    {
      "cell_type": "markdown",
      "metadata": {
        "id": "542QxKsSOs21"
      },
      "source": [
        "# Part 3 - RL with Function Approximation"
      ]
    },
    {
      "cell_type": "markdown",
      "metadata": {
        "id": "OiGZBiJ4PiIE"
      },
      "source": [
        "## Question 3.1\n",
        "\n",
        "Given a datset $(s_i, a_i, r_i, s_i')$ of (states, actions, rewards, next states), the Fitted Q-Iteration (FQI) algorithm proceeds as follows:\n",
        "\n",
        "\n",
        "* We start from a $Q$ function $Q_0 \\in \\mathcal{F}$, where $\\mathcal{F}$ is a function space;\n",
        "* At every iteration $k$, we compute $Q_{k+1}$ as:\n",
        "\n",
        "$$\n",
        "Q_{k+1}\\in\\arg\\min_{f\\in\\mathcal{F}} \\frac{1}{2}\\sum_{i=1}^N\n",
        "\\left(\n",
        "  f(s_i, a_i) - y_i^k\n",
        "\\right)^2 + \\lambda \\Omega(f)\n",
        "$$\n",
        "where $y_i^k = r_i + \\gamma \\max_{a'}Q_k(s_i', a')$, $\\Omega(f)$ is a regularization term and $\\lambda > 0$ is the regularization coefficient.\n",
        "\n",
        "\n",
        "Consider FQI with *linear* function approximation. That is, for a given feature map $\\phi : S \\rightarrow \\mathbb{R}^d$, we consider a parametric family of $Q$ functions $Q_\\theta(s,a) = \\phi(s)^T\\theta_a$ for $\\theta_a\\in\\mathbb{R}^d$. Suppose we are applying FQI on a given dataset of $N$ tuples of the form $(s_i, a_i, r_i, s_i')$ and we are at the $k$-th iteration. Let $\\theta_k \\in\\mathbb{R}^{d \\times A}$ be our current parameter. Derive the *closed-form* update to find $\\theta_{k+1}$, using $\\frac{1}{2}\\sum_a ||\\theta_a||_2^2$ as regularization."
      ]
    },
    {
      "cell_type": "markdown",
      "metadata": {
        "id": "7jx7aE41DkEM"
      },
      "source": [
        "### **Answer**\n",
        "\n",
        "The quantity to minimize is the following, with $\\Theta=\\{\\theta_i\\}_{i=1, ..., \\#A}$:\n",
        "\n",
        "$l^{k+1}(\\Theta) = \\frac{1}{2}\\sum_i^N\\big(\\phi(s_i)^T \\theta_{a_i} - y_i^k\\big)^2 + \\frac{\\lambda}{2}\\sum_a||\\theta_a||^2_2$\n",
        "\n",
        "With linear function approximation, the minimum has a closed form that can be obtained by taking the gradients respect to $\\theta_a$ and setting them to 0. For each $a_i$:\n",
        "\n",
        "$\\nabla l(\\Theta)^{k+1}_{\\theta_{a_i}} = \\sum_{j/a_j=a_i}\\big(\\phi(s_j)^T \\theta_{a_i} - y_j^k\\big)\\phi(s_j) + \\lambda \\theta_{a_i}$\n",
        "\n",
        "$[\\sum_{j/a_j=a_i}\\big(\\phi(s_j)\\phi(s_j)^T\\big)  + \\lambda I_{dxd}]\\theta_{a_i} - \\sum_{j/a_j=a_i} y^k_j\\phi(s_j) = 0$\n",
        "\n",
        "$\\theta_{a_i}^{k+1} = [\\sum_{j/a_j=a_i}\\big(\\phi(s_j)\\phi(s_j)^T\\big)  + \\lambda I_{dxd}]^{-1} \\sum_{j/a_j=a_i} y^k_j\\phi(s_j)$"
      ]
    },
    {
      "cell_type": "markdown",
      "metadata": {
        "id": "ewHzjm7MVGBg"
      },
      "source": [
        "## Question 3.2\n",
        "\n",
        "The code below creates a larger gridworld (with more states than the one used in the previous questions), and defines a feature map. Implement linear FQI to this environment (in the function `linear_fqi()` below), and compare the approximated $Q$ function to the optimal $Q$ function computed with value iteration.\n",
        "\n",
        "Can you improve the feature map in order to reduce the approximation error?"
      ]
    },
    {
      "cell_type": "markdown",
      "metadata": {
        "id": "Tu4g-HSnEcBs"
      },
      "source": [
        "### **Answer**\n",
        "\n",
        "One of the strategies I tried for reducing the approximation error was increasing the dimension of the feature map. Since the capacity of a linear model is essentially given by the dimension of the feature map, it makes sense that if we have a richer representation of the states then our approximation of the optimal policy will be better. We can also increase the number of samples for the dataset and the number of iterations during training."
      ]
    },
    {
      "cell_type": "code",
      "metadata": {
        "id": "ZovF3VXOVfCs"
      },
      "source": [
        "def get_large_gridworld():\n",
        "  \"\"\"Creates an instance of a grid-world MDP with more states.\"\"\"\n",
        "  walls = [(ii, 10) for ii in range(15) if (ii != 7 and ii != 8)]\n",
        "  env = GridWorld(\n",
        "      nrows=15,\n",
        "      ncols=15,\n",
        "      reward_at = {(14, 14):1.0},\n",
        "      walls=tuple(walls),\n",
        "      success_probability=0.9,\n",
        "      terminal_states=((14, 14),)\n",
        "  )\n",
        "  return env\n",
        "\n",
        "\n",
        "class GridWorldFeatureMap:\n",
        "  \"\"\"Create features for state-action pairs\n",
        "  \n",
        "  Args:\n",
        "    dim: int\n",
        "      Feature dimension\n",
        "    sigma: float\n",
        "      RBF kernel bandwidth\n",
        "  \"\"\"\n",
        "  def __init__(self, env, dim=15, sigma=0.25):\n",
        "    self.index2coord = env.index2coord\n",
        "    self.n_states = env.Ns\n",
        "    self.n_actions = env.Na\n",
        "    self.dim = dim\n",
        "    self.sigma = sigma\n",
        "\n",
        "    n_rows = env.nrows\n",
        "    n_cols = env.ncols\n",
        "\n",
        "    # build similarity matrix\n",
        "    sim_matrix = np.zeros((self.n_states, self.n_states))\n",
        "    for ii in range(self.n_states):\n",
        "        row_ii, col_ii = self.index2coord[ii]\n",
        "        x_ii = row_ii / n_rows\n",
        "        y_ii = col_ii / n_cols\n",
        "        for jj in range(self.n_states):\n",
        "            row_jj, col_jj = self.index2coord[jj]\n",
        "            x_jj = row_jj / n_rows\n",
        "            y_jj = col_jj / n_cols\n",
        "            dist = np.sqrt((x_jj - x_ii) ** 2.0 + (y_jj - y_ii) ** 2.0)\n",
        "            sim_matrix[ii, jj] = np.exp(-(dist / sigma) ** 2.0)\n",
        "\n",
        "    # factorize similarity matrix to obtain features\n",
        "    uu, ss, vh = np.linalg.svd(sim_matrix, hermitian=True)\n",
        "    self.feats = vh[:dim, :]\n",
        "\n",
        "  def map(self, observation):\n",
        "    feat = self.feats[:, observation].copy()\n",
        "    return feat"
      ],
      "execution_count": 71,
      "outputs": []
    },
    {
      "cell_type": "code",
      "metadata": {
        "id": "InCfu7F9-TbS",
        "colab": {
          "base_uri": "https://localhost:8080/",
          "height": 508
        },
        "outputId": "d4998056-9fcc-4ea9-d428-2bcdecfdf92c"
      },
      "source": [
        "env = get_large_gridworld()\n",
        "feat_map = GridWorldFeatureMap(env)\n",
        "\n",
        "# Visualize large gridworld\n",
        "render_policy(env)\n",
        "\n",
        "# The features have dimension (feature_dim).\n",
        "feature_example = feat_map.map(1) # feature representation of s=1\n",
        "print(feature_example)\n",
        "\n",
        "# Initial vector theta representing the Q function\n",
        "theta = np.zeros((feat_map.dim, env.action_space.n))\n",
        "print(theta.shape)\n",
        "print(feature_example @ theta) # approximation of Q(s=1, a)"
      ],
      "execution_count": 72,
      "outputs": [
        {
          "output_type": "display_data",
          "data": {
            "text/html": [
              "<video alt=\"videos/gw.mp4\" autoplay\n",
              "                      loop controls style=\"height: 400px;\">\n",
              "                    <source src=\"data:video/mp4;base64,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\" type=\"video/mp4\" />\n",
              "                 </video>"
            ],
            "text/plain": [
              "<IPython.core.display.HTML object>"
            ]
          },
          "metadata": {}
        },
        {
          "output_type": "stream",
          "name": "stdout",
          "text": [
            "[-0.02850699  0.063555   -0.02169407 -0.06441918  0.04505794 -0.07537777\n",
            "  0.08506473 -0.09325287  0.09644275 -0.00535101  0.11632395 -0.13074085\n",
            "  0.00921342 -0.13853662  0.07118419]\n",
            "(15, 4)\n",
            "[0. 0. 0. 0.]\n"
          ]
        }
      ]
    },
    {
      "cell_type": "code",
      "metadata": {
        "id": "p21KMmruugO1",
        "colab": {
          "base_uri": "https://localhost:8080/",
          "height": 669
        },
        "outputId": "74d57beb-c589-49ae-aea1-010e649cc62c"
      },
      "source": [
        "def linear_fqi(env, feat_map, num_iterations, lambd=0.1, gamma=0.95):\n",
        "  \"\"\"\n",
        "  # Linear FQI implementation\n",
        "  # TO BE COMPLETED\n",
        "  \"\"\"\n",
        "\n",
        "  # get a dataset\n",
        "  dataset = get_uniform_dataset(env, n_samples=5000)\n",
        "  # OR dataset = get_random_policy_dataset(env, n_samples=...)\n",
        "\n",
        "\n",
        "  theta = np.zeros((feat_map.dim, env.Na))\n",
        "\n",
        "  next_states = np.array(dataset[3])\n",
        "  rewards = np.array(dataset[2])\n",
        "  actions = np.array(dataset[1])\n",
        "  states = np.array(dataset[0])\n",
        "  \n",
        "  states_map = feat_map.map(states)\n",
        "  next_states_map = feat_map.map(next_states)\n",
        "  for it in range(num_iterations):    \n",
        "    # Compute target\n",
        "    targets = rewards + gamma * np.max(next_states_map.T @ theta, axis=1)\n",
        "    # Solve the linear regression for each action\n",
        "    for action in range(env.Na):\n",
        "      trajectories = [i[0] for i in np.argwhere(actions == action)]\n",
        "      target = targets[trajectories]\n",
        "      state = states_map[:, trajectories]\n",
        "      theta[:, action] = np.linalg.solve( lambd * np.eye(theta.shape[0]) + state@state.T, state@target)\n",
        "  \n",
        "  return theta\n",
        "\n",
        "# ----------------------------\n",
        "# Environment and feature map\n",
        "# ----------------------------\n",
        "env = get_large_gridworld()\n",
        "# you can change the parameters of the feature map, and even try other maps!\n",
        "feat_map = GridWorldFeatureMap(env, dim=150, sigma=0.25)\n",
        "\n",
        "# -------\n",
        "# Run FQI\n",
        "# -------\n",
        "theta = linear_fqi(env, feat_map, num_iterations=100, lambd=0.1)\n",
        "\n",
        "# Compute and run greedy policy\n",
        "Q_fqi = np.zeros((env.Ns, env.Na))\n",
        "for ss in range(env.Ns):\n",
        "  state_feat = feat_map.map(ss)\n",
        "  Q_fqi[ss, :] = state_feat @ theta\n",
        "\n",
        "V_fqi = Q_fqi.max(axis=1)\n",
        "policy_fqi = Q_fqi.argmax(axis=1)\n",
        "render_policy(env, policy_fqi, horizon=100)\n",
        "\n",
        "# Visualize the approximate value function in the gridworld.\n",
        "img = env.get_layout_img(V_fqi)    \n",
        "plt.imshow(img)\n",
        "plt.show()"
      ],
      "execution_count": 73,
      "outputs": [
        {
          "output_type": "display_data",
          "data": {
            "text/html": [
              "<video alt=\"videos/gw.mp4\" autoplay\n",
              "                      loop controls style=\"height: 400px;\">\n",
              "                    <source src=\"data:video/mp4;base64,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\" type=\"video/mp4\" />\n",
              "                 </video>"
            ],
            "text/plain": [
              "<IPython.core.display.HTML object>"
            ]
          },
          "metadata": {}
        },
        {
          "output_type": "display_data",
          "data": {
            "image/png": "[encoded data removed]",
            "text/plain": [
              "<Figure size 432x288 with 1 Axes>"
            ]
          },
          "metadata": {
            "needs_background": "light"
          }
        }
      ]
    },
    {
      "cell_type": "code",
      "metadata": {
        "colab": {
          "base_uri": "https://localhost:8080/",
          "height": 669
        },
        "id": "6RrwNERsLG1X",
        "outputId": "ef088a25-179e-456e-a981-1969f6d9a2b6"
      },
      "source": [
        "# Value iteration\n",
        "VI_Q, VI_greedypol, all_qfunctions = value_iteration(env.P, env.R, tol=1e-16)\n",
        "render_policy(env, VI_greedypol, horizon=100)\n",
        "\n",
        "# Visualize the optimal value function obtained by value iteration in the gridworld.\n",
        "VI_V = VI_Q.max(axis=1)\n",
        "img = env.get_layout_img(VI_V)\n",
        "plt.imshow(img)\n",
        "plt.show()"
      ],
      "execution_count": 74,
      "outputs": [
        {
          "output_type": "display_data",
          "data": {
            "text/html": [
              "<video alt=\"videos/gw.mp4\" autoplay\n",
              "                      loop controls style=\"height: 400px;\">\n",
              "                    <source src=\"data:video/mp4;base64,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\" type=\"video/mp4\" />\n",
              "                 </video>"
            ],
            "text/plain": [
              "<IPython.core.display.HTML object>"
            ]
          },
          "metadata": {}
        },
        {
          "output_type": "display_data",
          "data": {
            "image/png": "[encoded data removed]",
            "text/plain": [
              "<Figure size 432x288 with 1 Axes>"
            ]
          },
          "metadata": {
            "needs_background": "light"
          }
        }
      ]
    },
    {
      "cell_type": "code",
      "metadata": {
        "colab": {
          "base_uri": "https://localhost:8080/"
        },
        "id": "3s5kQr6OT9Vz",
        "outputId": "124bc736-96f5-4ce8-d751-758c075f5266"
      },
      "source": [
        "# Q functions comparison\n",
        "print(\"||Q* - Qfqi|| =\", np.linalg.norm(VI_Q - Q_fqi, ord=np.inf))"
      ],
      "execution_count": 75,
      "outputs": [
        {
          "output_type": "stream",
          "name": "stdout",
          "text": [
            "||Q* - Qfqi|| = 28.866078865440628\n"
          ]
        }
      ]
    }
  ]
}