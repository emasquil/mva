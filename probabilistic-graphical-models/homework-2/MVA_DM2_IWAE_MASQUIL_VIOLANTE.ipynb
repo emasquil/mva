{
 "cells": [
  {
   "cell_type": "markdown",
   "metadata": {
    "id": "3tyYDKlcqkBE"
   },
   "source": [
    "# Probabilistic Graphical Models - Homework 2, IWAE\n",
    "\n",
    "MVA 2021-2022\n",
    "\n",
    "Elías Masquil (eliasmasquil@gmail.com)\n",
    "\n",
    "Nicolás Violante (nviolante96@gmail.com)"
   ]
  },
  {
   "cell_type": "markdown",
   "metadata": {
    "id": "9B30ONxejRn-"
   },
   "source": [
    "In this assignment, you'll play a bit with a VAE on a binarised version of MNIST"
   ]
  },
  {
   "cell_type": "markdown",
   "metadata": {
    "id": "z3sguCcpg2Yw"
   },
   "source": [
    "# Loading useful stuff"
   ]
  },
  {
   "cell_type": "code",
   "execution_count": null,
   "metadata": {
    "id": "xMPYV_R2ghyx"
   },
   "outputs": [],
   "source": [
    "import numpy as np\n",
    "import tensorflow as tf\n",
    "import matplotlib.pyplot as plt\n",
    "import tensorflow_probability as tfp\n",
    "\n",
    "tfk = tf.keras\n",
    "tfkl = tf.keras.layers\n",
    "tfd = tfp.distributions"
   ]
  },
  {
   "cell_type": "markdown",
   "metadata": {
    "id": "h58v-MfihGen"
   },
   "source": [
    "# Loading MNIST and binarising it"
   ]
  },
  {
   "cell_type": "code",
   "execution_count": null,
   "metadata": {
    "id": "1sTryqQpguSj"
   },
   "outputs": [],
   "source": [
    "(train_images_nonbinary, y_train), (test_images_nonbinary,  y_test) = tf.keras.datasets.mnist.load_data()\n",
    "\n",
    "train_images_nonbinary = train_images_nonbinary.reshape(train_images_nonbinary.shape[0], 28*28)\n",
    "test_images_nonbinary = test_images_nonbinary.reshape(test_images_nonbinary.shape[0], 28*28)\n",
    "\n",
    "y_train = tf.cast(y_train, tf.int64)\n",
    "y_test =tf.cast(y_test, tf.int64)"
   ]
  },
  {
   "cell_type": "code",
   "execution_count": null,
   "metadata": {
    "colab": {
     "base_uri": "https://localhost:8080/",
     "height": 248
    },
    "id": "xP-RnOcwjIUK",
    "outputId": "125c18ec-371e-4cf8-9235-f95f50995426"
   },
   "outputs": [
    {
     "data": {
      "image/png": "[encoded data removed]",
      "text/plain": [
       "<Figure size 432x288 with 1 Axes>"
      ]
     },
     "metadata": {
      "needs_background": "light"
     },
     "output_type": "display_data"
    }
   ],
   "source": [
    "plt.imshow(train_images_nonbinary[0, :].reshape((28,28)), cmap='gray')\n",
    "plt.axis('off')\n",
    "plt.show()"
   ]
  },
  {
   "cell_type": "markdown",
   "metadata": {
    "id": "6JaPwhRdhI8s"
   },
   "source": [
    "Then we binarise the data. There are many ways to do that. Here, we simply round the numbers, following the [TF tutorial on convolutional VAEs](https://www.tensorflow.org/tutorials/generative/cvae)."
   ]
  },
  {
   "cell_type": "code",
   "execution_count": null,
   "metadata": {
    "id": "UyIpmbV8g4d3"
   },
   "outputs": [],
   "source": [
    "# Normalizing the images to the range of [0., 1.]\n",
    "train_images = train_images_nonbinary/255.\n",
    "test_images = test_images_nonbinary/255.\n",
    "\n",
    "# Binarization\n",
    "train_images[train_images >= .5] = 1.\n",
    "train_images[train_images < .5] = 0.\n",
    "test_images[test_images >= .5] = 1.\n",
    "test_images[test_images < .5] = 0."
   ]
  },
  {
   "cell_type": "code",
   "execution_count": null,
   "metadata": {
    "colab": {
     "base_uri": "https://localhost:8080/",
     "height": 248
    },
    "id": "s8pOg8LNg7p2",
    "outputId": "7bd59480-1c2d-4d3b-d32a-31a9d4813a2e"
   },
   "outputs": [
    {
     "data": {
      "image/png": "[encoded data removed]",
      "text/plain": [
       "<Figure size 432x288 with 1 Axes>"
      ]
     },
     "metadata": {
      "needs_background": "light"
     },
     "output_type": "display_data"
    }
   ],
   "source": [
    "plt.imshow(train_images[0, :].reshape((28,28)), cmap='gray')\n",
    "plt.axis('off')\n",
    "plt.show()"
   ]
  },
  {
   "cell_type": "markdown",
   "metadata": {
    "id": "cybWUmUGMNqH"
   },
   "source": [
    "# Specifying our graphical model"
   ]
  },
  {
   "cell_type": "markdown",
   "metadata": {
    "id": "x_SffkK9GaRh"
   },
   "source": [
    "We will use a **deep latent variable model with a Gaussian prior and a Bernoulli observation model**. This can be written:\n",
    "\n",
    "$$p_{\\boldsymbol{\\theta}}(\\mathbf{x}_1,...,\\mathbf{x}_n) = \\prod_{i=1}^n p(\\mathbf{x}_i|\\mathbf{z}_i)p(\\mathbf{z}_i),$$\n",
    "$$p(\\mathbf{z}_i) = \\mathcal{N}(\\mathbf{z}_i|\\mathbf{0}_d,\\mathbf{I}_d), $$\n",
    "$$p_{\\boldsymbol{\\theta}}(\\mathbf{x}_i|\\mathbf{z}_i) = \\mathcal{B} (\\mathbf{x}_i|\\boldsymbol{\\pi}_{\\boldsymbol{\\theta}}(\\mathbf{z}_i)),$$\n",
    "\n",
    "where $\\boldsymbol{\\pi}_{\\boldsymbol{\\theta}}: \\mathbb{R}^d \\rightarrow \\mathbb{[0,1]}^p$ is a function (called the **decoder**) parametrised by a deep neural net. This neural net will be defined as a keras sequential model."
   ]
  },
  {
   "cell_type": "code",
   "execution_count": null,
   "metadata": {
    "id": "LdIQhO9ZMLsD"
   },
   "outputs": [],
   "source": [
    "d = 10 # dimension of the latent space\n",
    "\n",
    "p_z = tfd.Independent(tfd.Normal(loc = tf.zeros(d, tf.float32), scale = tf.ones(d, tf.float32)),reinterpreted_batch_ndims=1)  # that's the prior"
   ]
  },
  {
   "cell_type": "code",
   "execution_count": null,
   "metadata": {
    "id": "x1hb-6ysMLvO"
   },
   "outputs": [],
   "source": [
    "h = 100 # number of hidden units\n",
    "\n",
    "sigma = \"relu\"\n",
    "\n",
    "decoder = tfk.Sequential([\n",
    "  tfkl.InputLayer(input_shape=[d,]),\n",
    "  tfkl.Dense(h, activation=sigma),\n",
    "  tfkl.Dense(h, activation=sigma),\n",
    "  tfkl.Dense(28*28)\n",
    "])"
   ]
  },
  {
   "cell_type": "markdown",
   "metadata": {
    "id": "BZkgqqw2J32a"
   },
   "source": [
    "Note that the decoder needs to output probabilities, which can be constrained using a sigmoid final layer. However, it is generally better (i.e. computationnaly more stable) to work with [logits](https://stackoverflow.com/questions/34240703/what-are-logits-what-is-the-difference-between-softmax-and-softmax-cross-entrop) than probabilities, when doing deep learning. For instance, all the distributions of TensorFlow probability or Pytorch distributions that use probabilities as parameters (e.g. [Bernoulli](https://www.tensorflow.org/probability/api_docs/python/tfp/distributions/Bernoulli), [categorical](https://www.tensorflow.org/probability/api_docs/python/tfp/distributions/Categorical) or [binomial](https://www.tensorflow.org/probability/api_docs/python/tfp/distributions/Binomial)) can use $\\texttt{logits}$ or $\\texttt{probs}$ as arguments. It is generally better to use  $\\texttt{logits}$. This is why this keras model for the decoder does not output probabilities, but logits.\n",
    "\n",
    "\n",
    "\n"
   ]
  },
  {
   "cell_type": "markdown",
   "metadata": {
    "id": "Swqz4zq0HxHe"
   },
   "source": [
    "**1. Implement a function that performs ancestral sampling for this deep latent variable model, and show 5 sampled images from the initialised model. Of course, we expect these samples to look like random noise, since we have not trained our model yet.**"
   ]
  },
  {
   "cell_type": "markdown",
   "metadata": {
    "id": "VRiMM_gB-ZxZ"
   },
   "source": [
    "## Ex 1. Ancestral sampling"
   ]
  },
  {
   "cell_type": "code",
   "execution_count": null,
   "metadata": {
    "id": "uIToLhii-eDt"
   },
   "outputs": [],
   "source": [
    "def ancestral_sampling(decoder, p_z, num_samples=5):\n",
    "    z = p_z.sample(num_samples)\n",
    "    pi_z = decoder(z)\n",
    "    p_theta = tfd.Independent(tfd.Bernoulli(logits=pi_z), reinterpreted_batch_ndims=1)\n",
    "    images = p_theta.sample()    \n",
    "    for i in range(num_samples):\n",
    "        img = tf.reshape(images[i], (28,28))\n",
    "        plt.figure()\n",
    "        plt.imshow(img, cmap=\"gray\")"
   ]
  },
  {
   "cell_type": "code",
   "execution_count": null,
   "metadata": {
    "colab": {
     "base_uri": "https://localhost:8080/",
     "height": 1000
    },
    "id": "9IdUhXO5_FKE",
    "outputId": "540dd743-ba98-4799-a1d9-243b6093cab0"
   },
   "outputs": [
    {
     "data": {
      "image/png": "[encoded data removed]",
      "text/plain": [
       "<Figure size 432x288 with 1 Axes>"
      ]
     },
     "metadata": {
      "needs_background": "light"
     },
     "output_type": "display_data"
    },
    {
     "data": {
      "image/png": "[encoded data removed]",
      "text/plain": [
       "<Figure size 432x288 with 1 Axes>"
      ]
     },
     "metadata": {
      "needs_background": "light"
     },
     "output_type": "display_data"
    },
    {
     "data": {
      "image/png": "[encoded data removed]",
      "text/plain": [
       "<Figure size 432x288 with 1 Axes>"
      ]
     },
     "metadata": {
      "needs_background": "light"
     },
     "output_type": "display_data"
    },
    {
     "data": {
      "image/png": "[encoded data removed]",
      "text/plain": [
       "<Figure size 432x288 with 1 Axes>"
      ]
     },
     "metadata": {
      "needs_background": "light"
     },
     "output_type": "display_data"
    },
    {
     "data": {
      "image/png": "[encoded data removed]",
      "text/plain": [
       "<Figure size 432x288 with 1 Axes>"
      ]
     },
     "metadata": {
      "needs_background": "light"
     },
     "output_type": "display_data"
    }
   ],
   "source": [
    "ancestral_sampling(decoder, p_z)"
   ]
  },
  {
   "cell_type": "markdown",
   "metadata": {
    "id": "z3HIWw5hNSun"
   },
   "source": [
    "## Encoder"
   ]
  },
  {
   "cell_type": "markdown",
   "metadata": {
    "id": "uC62wDDvHIsb"
   },
   "source": [
    "To be able to train our model, we will need an **encoder** (aka **inference network**), that will allow us to approximate the intractable posterior $p(\\mathbf{z}|\\mathbf{x})$.\n",
    "The approximate posterior is defined as follows\n",
    "$$ q(\\mathbf{z}|\\mathbf{x}) = \\mathcal{N}(\\mathbf{z} | \\mathbf{m}_\\boldsymbol{\\gamma} ( \\mathbf{x} ), \\text{Diag}(\\mathbf{s}_\\boldsymbol{\\gamma} ( \\mathbf{x} )),\n",
    "$$ \n",
    "where $\\mathbf{x} \\mapsto (\\mathbf{m}_\\boldsymbol{\\gamma} ( \\mathbf{x} ), \\mathbf{s}_\\boldsymbol{\\gamma} ( \\mathbf{x} ))$ is a function from the data space (i.e. $\\{0,1\\}^p$) to $\\mathbb{R}^d \\times [0, \\infty[^d$ parametrised by a deep neural network. In other words, the encoder outputs the mean and the diagonal of the covariance matrix of the approximate posterior $q(\\mathbf{z}|\\mathbf{x})$."
   ]
  },
  {
   "cell_type": "code",
   "execution_count": null,
   "metadata": {
    "id": "mQFCFP4GMLxx"
   },
   "outputs": [],
   "source": [
    "encoder = tfk.Sequential([\n",
    "  tfkl.InputLayer(input_shape=[28*28,]),\n",
    "  tfkl.Dense(h, activation=sigma),\n",
    "  tfkl.Dense(h, activation=sigma),\n",
    "  tfkl.Dense(2*d) # 2*d because we need both the mean and the diagonal of the covariance of q(z|x)\n",
    "])"
   ]
  },
  {
   "cell_type": "markdown",
   "metadata": {
    "id": "KbracCjgNDjH"
   },
   "source": [
    "##The IWAE objective"
   ]
  },
  {
   "cell_type": "markdown",
   "metadata": {
    "id": "k2Nbj9JoNYIX"
   },
   "source": [
    "The **IWAE objective** is defined as\n",
    "$$\n",
    "\\mathcal{L}_K (\\boldsymbol{\\theta,\\gamma}) = \\sum_{i=1}^n \\mathbb{E}_{\\mathbf{z}_{i1},\\ldots,\\mathbf{z}_{iK} \\sim q_{\\boldsymbol{\\gamma}}(\\mathbf{z}|\\mathbf{x}_i)} \\left[ \\log\\frac{1}{K} \\sum_{k=1}^K \\frac{p_{\\boldsymbol{\\theta}}(\\mathbf{x}_i|\\mathbf{z}_{ik}){p(\\mathbf{z}_{ik})}}{{q_{\\boldsymbol{\\gamma}}(\\mathbf{z}_{ik}|\\mathbf{x}_i)}} \\right]\n",
    "$$"
   ]
  },
  {
   "cell_type": "markdown",
   "metadata": {
    "id": "IRd-gC2qN5fS"
   },
   "source": [
    "**2. Create a function that computes an unbiased estimate of the IWAE bound, and optimise it to train the model. You are allowed to use TF probability to avoid implementing the reparametrisation trick, and you are allowed to use keras for training.** \n",
    "\n",
    "**3. Show a few samples from the model after training.**\n",
    "\n",
    "\n",
    "\n",
    "\n"
   ]
  },
  {
   "cell_type": "code",
   "execution_count": null,
   "metadata": {
    "id": "8oTvK5uPToaq"
   },
   "outputs": [],
   "source": [
    "class VAE(tfk.Model):\n",
    "    \"\"\"Variational autoencoder trained by maximizing IWAE bound\"\"\"\n",
    "\n",
    "\n",
    "    def __init__(self, encoder, decoder, p_z, k=5, d=10):\n",
    "        \"\"\"\n",
    "        encoder: neural network\n",
    "        decoder: neural network\n",
    "        k: number of montecarlo samples for the estimate of the likelihood\n",
    "        d: dimension of the latent space\n",
    "        p_z: prior distribution on the latent space\n",
    "        \"\"\"\n",
    "        super(VAE, self).__init__()\n",
    "        self.encoder = encoder\n",
    "        self.decoder = decoder\n",
    "        self.k = k\n",
    "        self.d = d\n",
    "        self.p_z = p_z\n",
    "\n",
    "\n",
    "    def compute_loss(self, X):\n",
    "        \"\"\"\n",
    "        Computes the loss in the log-domain by using logsumexp to avoid\n",
    "        numerical instability\n",
    "        \"\"\"\n",
    "\n",
    "        batch_size = X.shape[0]\n",
    "        # Encode the data and get latent distribution parameters\n",
    "        parameters_q = self.encoder(X)\n",
    "        means_q = parameters_q[:,:self.d]\n",
    "        covs_q = tf.nn.softplus(parameters_q[:, self.d:])\n",
    "\n",
    "        # Compute latent distribution and sample from it\n",
    "        q_z = tfd.Independent(tfd.Normal(loc=means_q, scale=covs_q), reinterpreted_batch_ndims=1)\n",
    "        \n",
    "        # Sample code (k samples for MC estimate)\n",
    "        z = q_z.sample(self.k)\n",
    "        prob_q_z = q_z.log_prob(z)\n",
    "\n",
    "        # Compute reconstructed image (decoder part)\n",
    "        # Evaluate prior on the codes\n",
    "        prob_z = p_z.log_prob(z)\n",
    "        # Merge batch and K dimension before feeding it to the decoder (because we have k samples for each image)\n",
    "        # Then, revert this change to have K estimates for each image\n",
    "        # pi_z are Bernoulli parameters obtained with the decoder\n",
    "        pi_z = tf.reshape(self.decoder(tf.reshape(z, (batch_size*self.k, self.d))), (self.k, batch_size, -1))\n",
    "        # Posterior distribution\n",
    "        p_theta = tfd.Independent(tfd.Bernoulli(logits=pi_z), reinterpreted_batch_ndims=1)\n",
    "        prob_theta = p_theta.log_prob(X)\n",
    "        \n",
    "        # IWAE loss (- IWAE bound)\n",
    "        return - tf.math.reduce_mean(tf.reduce_logsumexp(prob_theta + prob_z - prob_q_z,0))\n",
    "\n",
    "\n",
    "    def train_step(self, X):\n",
    "        \"\"\"\n",
    "        Tensorflow training step. Backpropagation of the gradients and optimizer step\n",
    "        \"\"\"\n",
    "        with tf.GradientTape() as tape:\n",
    "            loss = self.compute_loss(X)\n",
    "        grads = tape.gradient(loss, self.trainable_weights)\n",
    "        self.optimizer.apply_gradients(zip(grads, self.trainable_weights))\n",
    "        return {\"loss\": loss}\n"
   ]
  },
  {
   "cell_type": "markdown",
   "metadata": {
    "id": "COzT1Zri95rY"
   },
   "source": [
    "## Ex 2. Training the IWAE"
   ]
  },
  {
   "cell_type": "code",
   "execution_count": null,
   "metadata": {
    "colab": {
     "base_uri": "https://localhost:8080/"
    },
    "id": "W7PaCzdhWq0W",
    "outputId": "134b6df4-cdf6-42af-cbcb-5d966a8c945d"
   },
   "outputs": [
    {
     "name": "stdout",
     "output_type": "stream",
     "text": [
      "Epoch 1/50\n",
      "1875/1875 [==============================] - 9s 4ms/step - loss: 89.5706\n",
      "Epoch 2/50\n",
      "1875/1875 [==============================] - 8s 4ms/step - loss: 89.3599\n",
      "Epoch 3/50\n",
      "1875/1875 [==============================] - 8s 4ms/step - loss: 89.1284\n",
      "Epoch 4/50\n",
      "1875/1875 [==============================] - 8s 4ms/step - loss: 88.9523\n",
      "Epoch 5/50\n",
      "1875/1875 [==============================] - 8s 4ms/step - loss: 88.8214\n",
      "Epoch 6/50\n",
      "1875/1875 [==============================] - 8s 4ms/step - loss: 88.6917\n",
      "Epoch 7/50\n",
      "1875/1875 [==============================] - 8s 4ms/step - loss: 88.4780\n",
      "Epoch 8/50\n",
      "1875/1875 [==============================] - 8s 4ms/step - loss: 88.3569\n",
      "Epoch 9/50\n",
      "1875/1875 [==============================] - 8s 4ms/step - loss: 88.2146\n",
      "Epoch 10/50\n",
      "1875/1875 [==============================] - 8s 4ms/step - loss: 88.1084\n",
      "Epoch 11/50\n",
      "1875/1875 [==============================] - 8s 4ms/step - loss: 87.9520\n",
      "Epoch 12/50\n",
      "1875/1875 [==============================] - 8s 4ms/step - loss: 87.8455\n",
      "Epoch 13/50\n",
      "1875/1875 [==============================] - 8s 4ms/step - loss: 87.6942\n",
      "Epoch 14/50\n",
      "1875/1875 [==============================] - 8s 4ms/step - loss: 87.6383\n",
      "Epoch 15/50\n",
      "1875/1875 [==============================] - 8s 4ms/step - loss: 87.5206\n",
      "Epoch 16/50\n",
      "1875/1875 [==============================] - 8s 4ms/step - loss: 87.3815\n",
      "Epoch 17/50\n",
      "1875/1875 [==============================] - 8s 4ms/step - loss: 87.3526\n",
      "Epoch 18/50\n",
      "1875/1875 [==============================] - 8s 4ms/step - loss: 87.2479\n",
      "Epoch 19/50\n",
      "1875/1875 [==============================] - 8s 4ms/step - loss: 87.1417\n",
      "Epoch 20/50\n",
      "1875/1875 [==============================] - 8s 4ms/step - loss: 87.0575\n",
      "Epoch 21/50\n",
      "1875/1875 [==============================] - 8s 4ms/step - loss: 86.9985\n",
      "Epoch 22/50\n",
      "1875/1875 [==============================] - 8s 4ms/step - loss: 86.8773\n",
      "Epoch 23/50\n",
      "1875/1875 [==============================] - 8s 4ms/step - loss: 86.8305\n",
      "Epoch 24/50\n",
      "1875/1875 [==============================] - 8s 4ms/step - loss: 86.7128\n",
      "Epoch 25/50\n",
      "1875/1875 [==============================] - 8s 4ms/step - loss: 86.6700\n",
      "Epoch 26/50\n",
      "1875/1875 [==============================] - 8s 4ms/step - loss: 86.6159\n",
      "Epoch 27/50\n",
      "1875/1875 [==============================] - 8s 4ms/step - loss: 86.4850\n",
      "Epoch 28/50\n",
      "1875/1875 [==============================] - 8s 4ms/step - loss: 86.4407\n",
      "Epoch 29/50\n",
      "1875/1875 [==============================] - 8s 4ms/step - loss: 86.3748\n",
      "Epoch 30/50\n",
      "1875/1875 [==============================] - 8s 4ms/step - loss: 86.3134\n",
      "Epoch 31/50\n",
      "1875/1875 [==============================] - 8s 4ms/step - loss: 86.2518\n",
      "Epoch 32/50\n",
      "1875/1875 [==============================] - 8s 4ms/step - loss: 86.1922\n",
      "Epoch 33/50\n",
      "1875/1875 [==============================] - 8s 4ms/step - loss: 86.1106\n",
      "Epoch 34/50\n",
      "1875/1875 [==============================] - 8s 4ms/step - loss: 86.0933\n",
      "Epoch 35/50\n",
      "1875/1875 [==============================] - 8s 4ms/step - loss: 86.0565\n",
      "Epoch 36/50\n",
      "1875/1875 [==============================] - 8s 4ms/step - loss: 85.9849\n",
      "Epoch 37/50\n",
      "1875/1875 [==============================] - 8s 4ms/step - loss: 85.9642\n",
      "Epoch 38/50\n",
      "1875/1875 [==============================] - 8s 4ms/step - loss: 85.8684\n",
      "Epoch 39/50\n",
      "1875/1875 [==============================] - 8s 4ms/step - loss: 85.8194\n",
      "Epoch 40/50\n",
      "1875/1875 [==============================] - 8s 4ms/step - loss: 85.7860\n",
      "Epoch 41/50\n",
      "1875/1875 [==============================] - 8s 4ms/step - loss: 85.7656\n",
      "Epoch 42/50\n",
      "1875/1875 [==============================] - 8s 4ms/step - loss: 85.7032\n",
      "Epoch 43/50\n",
      "1875/1875 [==============================] - 8s 4ms/step - loss: 85.6516\n",
      "Epoch 44/50\n",
      "1875/1875 [==============================] - 8s 4ms/step - loss: 85.5793\n",
      "Epoch 45/50\n",
      "1875/1875 [==============================] - 8s 4ms/step - loss: 85.5620\n",
      "Epoch 46/50\n",
      "1875/1875 [==============================] - 8s 4ms/step - loss: 85.5095\n",
      "Epoch 47/50\n",
      "1875/1875 [==============================] - 8s 4ms/step - loss: 85.4734\n",
      "Epoch 48/50\n",
      "1875/1875 [==============================] - 8s 4ms/step - loss: 85.4464\n",
      "Epoch 49/50\n",
      "1875/1875 [==============================] - 8s 4ms/step - loss: 85.4039\n",
      "Epoch 50/50\n",
      "1875/1875 [==============================] - 8s 4ms/step - loss: 85.3704\n"
     ]
    },
    {
     "data": {
      "text/plain": [
       "<keras.callbacks.History at 0x7fb7f2ee03d0>"
      ]
     },
     "execution_count": 41,
     "metadata": {},
     "output_type": "execute_result"
    }
   ],
   "source": [
    "vae = VAE(encoder, decoder, p_z)\n",
    "vae.compile(optimizer=tfk.optimizers.Adam())\n",
    "vae.fit(train_images, epochs=50, batch_size=32)"
   ]
  },
  {
   "cell_type": "markdown",
   "metadata": {
    "id": "AuVGgI3w-Fjj"
   },
   "source": [
    "### IWAE bound"
   ]
  },
  {
   "cell_type": "code",
   "execution_count": null,
   "metadata": {
    "colab": {
     "base_uri": "https://localhost:8080/"
    },
    "id": "76L-P2tw-68_",
    "outputId": "71164f91-42f7-40ea-ce2d-4f389e7ed512"
   },
   "outputs": [
    {
     "name": "stdout",
     "output_type": "stream",
     "text": [
      "IWAE bound in train: -84.82263946533203\n",
      "IWAE bound in test: -86.43109130859375\n"
     ]
    }
   ],
   "source": [
    "batch_size = 32\n",
    "train_dataset = tf.data.Dataset.from_tensor_slices((train_images)).batch(batch_size)\n",
    "test_dataset = tf.data.Dataset.from_tensor_slices((test_images)).batch(batch_size)\n",
    "\n",
    "train_iwae = []\n",
    "train_iwae = tf.reduce_mean([-vae.compute_loss(images) for images in train_dataset])\n",
    "\n",
    "test_iwae = []\n",
    "test_iwae = tf.reduce_mean([-vae.compute_loss(images) for images in test_dataset])\n",
    "\n",
    "print(f\"IWAE bound in train: {train_iwae}\")\n",
    "print(f\"IWAE bound in test: {test_iwae}\")"
   ]
  },
  {
   "cell_type": "markdown",
   "metadata": {
    "id": "GAlgZzqP-Acu"
   },
   "source": [
    "## Ex 3. Visualizing generated samples"
   ]
  },
  {
   "cell_type": "code",
   "execution_count": null,
   "metadata": {
    "colab": {
     "base_uri": "https://localhost:8080/",
     "height": 1000
    },
    "id": "2Cb3Vnq-dRwV",
    "outputId": "455db884-58e9-4a2d-d2d9-9ae6026dacec"
   },
   "outputs": [
    {
     "data": {
      "image/png": "[encoded data removed]",
      "text/plain": [
       "<Figure size 432x288 with 1 Axes>"
      ]
     },
     "metadata": {
      "needs_background": "light"
     },
     "output_type": "display_data"
    },
    {
     "data": {
      "image/png": "[encoded data removed]",
      "text/plain": [
       "<Figure size 432x288 with 1 Axes>"
      ]
     },
     "metadata": {
      "needs_background": "light"
     },
     "output_type": "display_data"
    },
    {
     "data": {
      "image/png": "[encoded data removed]",
      "text/plain": [
       "<Figure size 432x288 with 1 Axes>"
      ]
     },
     "metadata": {
      "needs_background": "light"
     },
     "output_type": "display_data"
    },
    {
     "data": {
      "image/png": "[encoded data removed]",
      "text/plain": [
       "<Figure size 432x288 with 1 Axes>"
      ]
     },
     "metadata": {
      "needs_background": "light"
     },
     "output_type": "display_data"
    },
    {
     "data": {
      "image/png": "[encoded data removed]",
      "text/plain": [
       "<Figure size 432x288 with 1 Axes>"
      ]
     },
     "metadata": {
      "needs_background": "light"
     },
     "output_type": "display_data"
    },
    {
     "data": {
      "image/png": "[encoded data removed]",
      "text/plain": [
       "<Figure size 432x288 with 1 Axes>"
      ]
     },
     "metadata": {
      "needs_background": "light"
     },
     "output_type": "display_data"
    },
    {
     "data": {
      "image/png": "[encoded data removed]",
      "text/plain": [
       "<Figure size 432x288 with 1 Axes>"
      ]
     },
     "metadata": {
      "needs_background": "light"
     },
     "output_type": "display_data"
    },
    {
     "data": {
      "image/png": "[encoded data removed]",
      "text/plain": [
       "<Figure size 432x288 with 1 Axes>"
      ]
     },
     "metadata": {
      "needs_background": "light"
     },
     "output_type": "display_data"
    },
    {
     "data": {
      "image/png": "[encoded data removed]",
      "text/plain": [
       "<Figure size 432x288 with 1 Axes>"
      ]
     },
     "metadata": {
      "needs_background": "light"
     },
     "output_type": "display_data"
    },
    {
     "data": {
      "image/png": "[encoded data removed]",
      "text/plain": [
       "<Figure size 432x288 with 1 Axes>"
      ]
     },
     "metadata": {
      "needs_background": "light"
     },
     "output_type": "display_data"
    }
   ],
   "source": [
    "ancestral_sampling(vae.decoder, vae.p_z, 10)"
   ]
  },
  {
   "cell_type": "markdown",
   "metadata": {
    "id": "MlWaIgx6-SZ-"
   },
   "source": [
    "## Ex 4. Importance sampling and visualisation"
   ]
  },
  {
   "cell_type": "code",
   "execution_count": null,
   "metadata": {
    "id": "0Mmpdb9z-TGd"
   },
   "outputs": [],
   "source": [
    "means = []\n",
    "for batch_image in test_dataset:\n",
    "    means.append(vae.encoder(batch_image)[:, :10].numpy())\n",
    "\n",
    "means = np.vstack(means)"
   ]
  },
  {
   "cell_type": "code",
   "execution_count": null,
   "metadata": {
    "colab": {
     "base_uri": "https://localhost:8080/",
     "height": 373
    },
    "id": "sdwJR1hDAUmX",
    "outputId": "ce549e42-b131-4aa7-8958-3b8710b8ce80"
   },
   "outputs": [
    {
     "name": "stderr",
     "output_type": "stream",
     "text": [
      "/usr/local/lib/python3.7/dist-packages/sklearn/manifold/_t_sne.py:783: FutureWarning: The default initialization in TSNE will change from 'random' to 'pca' in 1.2.\n",
      "  FutureWarning,\n",
      "/usr/local/lib/python3.7/dist-packages/sklearn/manifold/_t_sne.py:793: FutureWarning: The default learning rate in TSNE will change from 200.0 to 'auto' in 1.2.\n",
      "  FutureWarning,\n"
     ]
    },
    {
     "data": {
      "text/plain": [
       "<matplotlib.legend.Legend at 0x7fb7daf153d0>"
      ]
     },
     "execution_count": 59,
     "metadata": {},
     "output_type": "execute_result"
    },
    {
     "data": {
      "image/png": "[encoded data removed]",
      "text/plain": [
       "<Figure size 432x288 with 1 Axes>"
      ]
     },
     "metadata": {
      "needs_background": "light"
     },
     "output_type": "display_data"
    }
   ],
   "source": [
    "from sklearn.manifold import TSNE\n",
    "tnse = TSNE(2)\n",
    "data = tnse.fit_transform(means)\n",
    "\n",
    "fig, ax = plt.subplots()\n",
    "groups = np.unique(y_test.numpy())\n",
    "for group in groups:\n",
    "    idx = np.where(y_test.numpy() == group)[0]\n",
    "    d = data[idx, :]\n",
    "    ax.scatter(d[:,0], d[:,1], label=group)\n",
    "ax.legend()"
   ]
  }
 ],
 "metadata": {
  "accelerator": "GPU",
  "colab": {
   "collapsed_sections": [],
   "name": "HW2_PGM_IWAE.ipynb",
   "provenance": [],
   "toc_visible": true
  },
  "kernelspec": {
   "display_name": "Python 3 (ipykernel)",
   "language": "python",
   "name": "python3"
  },
  "language_info": {
   "codemirror_mode": {
    "name": "ipython",
    "version": 3
   },
   "file_extension": ".py",
   "mimetype": "text/x-python",
   "name": "python",
   "nbconvert_exporter": "python",
   "pygments_lexer": "ipython3",
   "version": "3.9.7"
  }
 },
 "nbformat": 4,
 "nbformat_minor": 4
}
