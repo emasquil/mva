{
  "nbformat": 4,
  "nbformat_minor": 0,
  "metadata": {
    "colab": {
      "name": "HW2_PGM_Gaussian_Process.ipynb",
      "provenance": [],
      "collapsed_sections": []
    },
    "kernelspec": {
      "name": "python3",
      "display_name": "Python 3"
    },
    "language_info": {
      "name": "python"
    }
  },
  "cells": [
    {
      "cell_type": "markdown",
      "source": [
        "# Probabilistic Graphical Models - Homework 2, Gaussian Process\n",
        "\n",
        "MVA 2021-2022\n",
        "\n",
        "Elías Masquil (eliasmasquil@gmail.com)\n",
        "\n",
        "Nicolás Violante (nviolante96@gmail.com)\n"
      ],
      "metadata": {
        "id": "9gg_J_0M6393"
      }
    },
    {
      "cell_type": "markdown",
      "source": [
        "# Gaussian Process"
      ],
      "metadata": {
        "id": "HzmTIs2H2ndD"
      }
    },
    {
      "cell_type": "code",
      "execution_count": null,
      "metadata": {
        "id": "-b1y2tU86q66"
      },
      "outputs": [],
      "source": [
        "import pandas as pd\n",
        "import numpy as np\n",
        "import matplotlib.pyplot as plt\n",
        "from sklearn.linear_model import LinearRegression"
      ]
    },
    {
      "cell_type": "code",
      "source": [
        "from google.colab import drive\n",
        "drive.mount('/content/drive')"
      ],
      "metadata": {
        "colab": {
          "base_uri": "https://localhost:8080/"
        },
        "id": "HpDUVZi260RY",
        "outputId": "2e01f654-230b-42b9-ba13-9e61119fc833"
      },
      "execution_count": null,
      "outputs": [
        {
          "output_type": "stream",
          "name": "stdout",
          "text": [
            "Mounted at /content/drive\n"
          ]
        }
      ]
    },
    {
      "cell_type": "code",
      "source": [
        "DATA_PATH = '/content/drive/My Drive/Colab Notebooks/probabilistic_graphical_models/UScrimes.csv'\n",
        "TRAINING_FRACTION = 0.75\n",
        "\n",
        "data = pd.read_csv(DATA_PATH)\n",
        "last_training_idx = int(len(data) * TRAINING_FRACTION)\n",
        "\n",
        "X = np.array([data[\"Assault\"].to_numpy(), data[\"UrbanPop\"].to_numpy()]).T\n",
        "y = data[\"Murder\"].to_numpy()\n",
        "X_train = X[:last_training_idx]\n",
        "X_test = X[last_training_idx:]\n",
        "y_train = y[:last_training_idx]\n",
        "y_test = y[last_training_idx:]\n",
        "\n",
        "y_mean = y_train.mean()\n",
        "y_std = y_train.std()\n",
        "y_train = (y_train - y_mean) / y_std \n",
        "y_test = (y_test - y_mean) / y_std\n",
        "X_mean = X_train.mean()\n",
        "X_std = X_train.std()\n",
        "X_train = (X_train - X_mean) / X_std\n",
        "X_test = (X_test - X_mean) / X_std "
      ],
      "metadata": {
        "id": "7BCHUXnG7tNY"
      },
      "execution_count": null,
      "outputs": []
    },
    {
      "cell_type": "markdown",
      "source": [
        "## Implementation\n",
        "\n",
        "We implement both the learning and prediction functions in a standalone GuassianProcess class"
      ],
      "metadata": {
        "id": "9MG4dPt22ttd"
      }
    },
    {
      "cell_type": "code",
      "source": [
        "class GuassianProcess:\n",
        "    def __init__(self):\n",
        "        self.params = np.ones(5)\n",
        "\n",
        "    def fit(self, X, y, num_iters, lr):\n",
        "        N = X.shape[0]\n",
        "        y = y[:, None]\n",
        "        L_list = np.zeros(num_iters)\n",
        "        for t in range(num_iters):\n",
        "            # Compute Kernel and C\n",
        "            term = X@X.T\n",
        "            sum = (X**2).sum(1)[:, None]\n",
        "            K = self.params[0] * np.exp(- 0.5 * self.params[1] * (sum + sum.T - 2*term))\n",
        "            K += self.params[2] + self.params[3] * term\n",
        "            C = K + (np.eye(N) * self.params[4])\n",
        "            C_inv = np.linalg.inv(C) \n",
        "\n",
        "            # Likelihood\n",
        "            L = - 0.5 * np.log(np.linalg.det(C)) - 0.5 * y.T@C_inv@y - 0.5 * N * np.log(2*np.pi)\n",
        "            L_list[t] = L\n",
        "\n",
        "            if t % 100 == 0:\n",
        "                print(f\"[{t}/{num_iters}] likelihood {L_list[t]}\")\n",
        "                print(f\"params {self.params}\")\n",
        "            \n",
        "            # Derivatives\n",
        "            derivatives = np.zeros((5, N, N))\n",
        "            derivatives[0] = np.ones((N, N))\n",
        "            derivatives[1] = term\n",
        "            derivatives[2] = np.exp(- 0.5 * self.params[1] * (sum + sum.T - 2*term))\n",
        "            for i in range(N):\n",
        "                for j in range(N):\n",
        "                    derivatives[3, i, j] = - self.params[0] * np.exp(-0.5 * self.params[1] *np.linalg.norm(X[i] - X[j], ord=2)**2) * 0.5 * np.linalg.norm(X[i] - X[j], ord=2)**2\n",
        "            derivatives[4] = np.eye(N)\n",
        "\n",
        "            # Gradient descent updates\n",
        "            for i, d in enumerate(derivatives):\n",
        "                grad =  - 0.5 * np.trace(C_inv @ d) + 0.5 * y.T @ C_inv @ d @ C_inv @ y\n",
        "                self.params[i] =  self.params[i] + lr * grad\n",
        "\n",
        "            self.C_inv = C_inv\n",
        "            self.X_train = X\n",
        "            self.y_train = y\n",
        "\n",
        "    def predict(self, X):\n",
        "        N = len(self.y_train)\n",
        "        y_pred = np.zeros(X.shape[0])\n",
        "        for n, x in enumerate(X):\n",
        "            k = np.zeros(N)\n",
        "            for i in range(N):\n",
        "                k[i] = self.params[0] * np.exp(-0.5 * self.params[1] * np.linalg.norm(self.X_train[i] - x, ord=2)**2)\n",
        "                k[i] += self.params[2] + self.params[3] * np.dot(x, self.X_train[i]) \n",
        "            \n",
        "            y_pred[n] = k[:, None].T @ self.C_inv @ self.y_train\n",
        "            \n",
        "\n",
        "        return y_pred"
      ],
      "metadata": {
        "id": "6FYl-EQT8Ii6"
      },
      "execution_count": null,
      "outputs": []
    },
    {
      "cell_type": "code",
      "source": [
        "def rmse(y_pred, y_true):\n",
        "    return np.sqrt(np.mean((y_pred - y_true)**2))"
      ],
      "metadata": {
        "id": "qq7XeWOXjLPJ"
      },
      "execution_count": null,
      "outputs": []
    },
    {
      "cell_type": "markdown",
      "source": [
        "## Real data\n",
        "We compare the performance, in terms on RMSE, of our Gaussian Process model and a Linear Regression. We observe a slighly better performance of the Gaussian Process model in both the training and the test set."
      ],
      "metadata": {
        "id": "T22cnBYl28fP"
      }
    },
    {
      "cell_type": "code",
      "source": [
        "# Train Gaussian Process model\n",
        "gp = GuassianProcess()\n",
        "gp.fit(X_train, y_train, num_iters=500, lr=0.001)"
      ],
      "metadata": {
        "colab": {
          "base_uri": "https://localhost:8080/"
        },
        "id": "c5lwZWNr9kiN",
        "outputId": "51157685-cc61-4cbf-d64a-8ba4f61a7ae9"
      },
      "execution_count": null,
      "outputs": [
        {
          "output_type": "stream",
          "name": "stdout",
          "text": [
            "[0/500] likelihood -46.46850255117383\n",
            "params [1. 1. 1. 1. 1.]\n",
            "[100/500] likelihood -39.97144204195021\n",
            "params [0.97891901 0.94673145 0.90621878 0.90999745 0.34941264]\n",
            "[200/500] likelihood -39.83948189459083\n",
            "params [0.95662199 0.88925312 0.82010819 0.82864426 0.35026772]\n",
            "[300/500] likelihood -39.699665680080464\n",
            "params [0.9332891  0.82851876 0.73737385 0.7453523  0.35143642]\n",
            "[400/500] likelihood -39.553092147816656\n",
            "params [0.90883166 0.76422419 0.65883625 0.66125807 0.35265967]\n"
          ]
        }
      ]
    },
    {
      "cell_type": "code",
      "source": [
        "y_train_pred = gp.predict(X_train)\n",
        "y_test_pred = gp.predict(X_test)"
      ],
      "metadata": {
        "id": "D-wP4uaIltPv"
      },
      "execution_count": null,
      "outputs": []
    },
    {
      "cell_type": "code",
      "source": [
        "# Train Linear Regression for comparison\n",
        "linear = LinearRegression()\n",
        "linear.fit(X_train, y_train)\n",
        "y_train_linear = linear.predict(X_train)\n",
        "y_test_linear = linear.predict(X_test)\n",
        "\n",
        "print(f\"RMSE: Gaussian Process, train {rmse(y_train_pred, y_train):.3f}, test: {rmse(y_test_pred, y_test):.3f}\")\n",
        "print(f\"RMSE: Linear Regression, train {rmse(y_train_linear, y_train):.3f} test: {rmse(y_test_linear, y_test):.3f}\")"
      ],
      "metadata": {
        "colab": {
          "base_uri": "https://localhost:8080/"
        },
        "id": "4Krzd-bhkhyU",
        "outputId": "f4cb3f36-8201-4d54-def4-a5947ad6909e"
      },
      "execution_count": null,
      "outputs": [
        {
          "output_type": "stream",
          "name": "stdout",
          "text": [
            "RMSE: Gaussian Process, train 0.555, test: 0.525\n",
            "RMSE: Linear Regression, train 0.593 test: 0.547\n"
          ]
        }
      ]
    }
  ]
}