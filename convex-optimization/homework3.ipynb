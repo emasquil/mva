{
  "nbformat": 4,
  "nbformat_minor": 0,
  "metadata": {
    "colab": {
      "name": "homework3.ipynb",
      "provenance": [],
      "collapsed_sections": [],
      "toc_visible": true
    },
    "kernelspec": {
      "name": "python3",
      "display_name": "Python 3"
    },
    "language_info": {
      "name": "python"
    }
  },
  "cells": [
    {
      "cell_type": "markdown",
      "metadata": {
        "id": "SI1uYeolpN1L"
      },
      "source": [
        "MVA 2021 ENS Paris-Saclay\n",
        "\n",
        "Elías MASQUIL"
      ]
    },
    {
      "cell_type": "markdown",
      "metadata": {
        "id": "RImPfecplRPv"
      },
      "source": [
        "# Barrier method for optimizing LASSO\n"
      ]
    },
    {
      "cell_type": "markdown",
      "metadata": {
        "id": "5jrJSGC_lprZ"
      },
      "source": [
        "We have the following problem:\n",
        "\n",
        "\\begin{equation}\n",
        "  \\tag{LASSO}\n",
        "\\text{minimize } \\frac{1}{2}||Xw-y||_2^2+λ||w||_1\n",
        "\\end{equation}\n",
        "in the variable $w \\in \\mathbb{R}^d$, where $X=(x_1^T, ..., x_n^T) \\in \\mathbb{R}^{n\\times d}, y=(y1, ..., y_n) \\in \\mathbb{R}^n \\text{ and } \\lambda>0$ is a regularization parameter."
      ]
    },
    {
      "cell_type": "markdown",
      "metadata": {
        "id": "bHcM_u9Fm_PD"
      },
      "source": [
        "## Derive the dual problem of LASSO and format it as a general Quadratic Problem\n",
        "\\begin{equation}\n",
        "\\tag{QP}\n",
        "\\text{minimize } v^TQv + p^Tv \\\\\n",
        "\\text{s.t } Av \\preccurlyeq b\n",
        "\\end{equation}\n",
        "in variable $v \\in \\mathbb{R}^n$, where $Q \\succcurlyeq 0$\n",
        "\n",
        "Let's begin by adding an equality constraint to form the dual problem:\n",
        "\n",
        "\\begin{align}\n",
        "\\min_{z,w} \\frac{1}{2} ||z||_2^2 + \\lambda||w||_1 \\\\\n",
        "\\text{s.t } z=Xw-y\n",
        "\\end{align}\n",
        "\n",
        "Then, the Lagrangian and the dual function are:\n",
        "\\begin{align}\n",
        "L(w,z,\\mu) = \\frac{1}{2}||z||_2^2 + \\lambda ||w||_1 + \\mu^T(z-Xw+y) \\\\\n",
        "g(\\mu) = \\inf_{w,z} L(w,z,\\mu) = \\inf_z (\\frac{1}{2}||z||_2^2 + \\mu^Tz) + \\inf_w(\\lambda ||w||_1 - \\mu^TXw) + \\mu^Ty\n",
        "\\end{align}\n",
        "\n",
        "The infimum in $z$ can be found by using the first order condition $\\nabla f(z)=0$ since we have a convex function on $z$:\n",
        "\\begin{align}\n",
        "\\nabla f(z) = z + \\mu = 0 \\rightarrow z = -\\mu\n",
        "\\end{align}\n",
        "\n",
        "For finding the infimum in $w$, we'll make use of the result of exercice 2.1 from Homework 2. The conjugate function of $f(x) = ||x||_1$, is $f^*(y) = \\sup_y y^Tx - ||x||_1 = \\left\\{ \\begin{array}{lcc}\n",
        "             0  \\text{  if  } ||y||_{\\infty} \\leq 1 \\\\\n",
        "             \\\\ \\infty \\text{ otherwise} \\\\\n",
        "             \\end{array}\n",
        "   \\right.$\n",
        "\n",
        "Rewriting the infimum as a supremum\n",
        "\\begin{align}\n",
        "\\inf_w(\\lambda ||w||_1 - \\mu^TXw) = - \\sup(\\mu^TXw - \\lambda ||w||_1) = \\lambda f^*(\\frac{X^Tw}{\\lambda})\n",
        "\\end{align}\n",
        "\n",
        "Then, the dual function is:\n",
        "\\begin{align}\n",
        "g(\\mu) = - \\frac{1}{2} \\mu^T\\mu + \\lambda f^*(\\frac{X^Tw}{\\lambda}) + \\mu^Ty\n",
        "\\end{align}\n",
        "\n",
        "And the dual problem can be written as:\n",
        "\\begin{align}\n",
        "\\max_\\mu \\mu^Ty - \\frac{1}{2} \\mu^T\\mu \\\\\n",
        "\\text{s.t } ||X^Ty||_{\\infty} \\leq \\lambda \\\\\n",
        "\\end{align}\n",
        "Which, in terms of the solution, is equivalent to the following problem, that by correctly identifying terms, can be written as (QP).\n",
        "\\begin{equation}\n",
        "min_{\\mu}  \\frac{1}{2} \\mu^t\\mu - \\mu^Ty \\\\ \n",
        "\\text{s.t } ||X^Ty||_{\\infty} \\leq \\lambda\n",
        "\\end{equation}\n",
        "\n",
        "Being the terms:\n",
        "* $Q = \\frac{1}{2} Id_{n\\times n}$\n",
        "* $p = -y $\n",
        "* $b \\in \\mathbb{R}^{2d}, b_i = \\lambda \\forall i$\n",
        "* $A \\in \\mathbb{R}^{2d \\times n} = (X, -X)^T$\n",
        "\n",
        "Note that the $2d$ dimension comes from the infinity norm, that induces two constraints per coordinate of $X^Tv$. \\\\\n",
        "$(X^T)_iv \\leq \\lambda$ \\\\\n",
        "$(X^T)_iv \\geq -\\lambda$"
      ]
    },
    {
      "cell_type": "markdown",
      "metadata": {
        "id": "TUeuBtjmkVC5"
      },
      "source": [
        "## Implement the barrier method to solve QP"
      ]
    },
    {
      "cell_type": "code",
      "metadata": {
        "id": "ONvJW0CvlaHH"
      },
      "source": [
        "import cvxpy as cp\n",
        "import matplotlib.pyplot as plt\n",
        "import numpy as np"
      ],
      "execution_count": 1,
      "outputs": []
    },
    {
      "cell_type": "code",
      "metadata": {
        "id": "wFa80B24kfjJ"
      },
      "source": [
        "# Backtracking line search parameters\n",
        "ALPHA = 0.1\n",
        "BETA = 0.7\n",
        "\n",
        "\n",
        "def centering_step(Q, p, A, b, t, v0, eps, verbose=False):\n",
        "  \"\"\"\n",
        "  Computes centering step of barrier method for QP starting at v0\n",
        "  \n",
        "  Parameters:\n",
        "  Q: nxn matrix\n",
        "  p: nx1 vector\n",
        "  A: 2dxn matrix (constraints)\n",
        "  b: 2d vector\n",
        "  t: float | barrier accuracy\n",
        "  v0: nx1 vector | starting point\n",
        "  eps: float | tolerance\n",
        "  verbose: bool | print intermediate results\n",
        "\n",
        "  Returns:\n",
        "  v_seq: list[vector nx1] sequence of v updates until convergence\n",
        "  \"\"\"\n",
        "  # Sequence of points\n",
        "  v_seq = []\n",
        "  n_iter = 1\n",
        "  while True:\n",
        "    # Add v to the sequence\n",
        "    v_seq.append(v0.copy())\n",
        "\n",
        "    # Gradient computation\n",
        "    # Vector: each i is f_i(x) of barrier function\n",
        "    f_i = (A@v0 -b)\n",
        "    # Matrix: each column is the gradient of the barrier function\n",
        "    gradient = t*(2*Q@v0 + p) + ((1/-f_i).T@A).T\n",
        "    # Hessian computation\n",
        "    hessian = t*2*Q.T +  (1/f_i)**2 * A.T@A\n",
        "\n",
        "    # Newton step and decrement\n",
        "    inv_hessian = np.linalg.inv(hessian)\n",
        "    newton_step = - inv_hessian @ gradient\n",
        "    newton_decrement = - np.dot(gradient, newton_step)\n",
        "    # Current value of f\n",
        "    f_v = t * (np.dot(v0, Q@v0) + np.dot(p,v0)) - np.sum(np.log(-A@v0+b))\n",
        "    if verbose:\n",
        "      print(f\" ---> Inner iteration: {n_iter} |\", end=\" \")\n",
        "      print(f\"Newton decrement: {newton_decrement} | f(v): {(np.dot(v0, Q@v0) + np.dot(p,v0))}\")\n",
        "    \n",
        "    # If newton decrement is small we exit\n",
        "    if (newton_decrement / 2) <= eps:\n",
        "      return v_seq\n",
        "\n",
        "    # Backtracking line search\n",
        "    l = 1\n",
        "    while True:\n",
        "      increment = v0 + l*newton_step\n",
        "      f_increment = t * (np.dot(increment, Q@increment) + np.dot(p, increment)) - np.sum(np.log(-A@increment+b))\n",
        "      if f_increment <= f_v + ALPHA * l * np.dot(gradient, newton_step):\n",
        "        break\n",
        "      l *= BETA\n",
        "\n",
        "    # Update v\n",
        "    v0 += l*newton_step\n",
        "    n_iter += 1\n",
        "\n",
        "\n",
        "def barrier_method(Q, p, A , b ,v0 , eps=1e-6, mu=50, verbose=False):\n",
        "  \"\"\"\n",
        "  Computes barrier method for QP starting at v0\n",
        "  \n",
        "  Parameters:\n",
        "  Q: nxn matrix\n",
        "  p: nx1 vector\n",
        "  A: 2dxn matrix (constraints)\n",
        "  b: 2d vector\n",
        "  v0: nx1 vector | starting point\n",
        "  eps: float | tolerance\n",
        "  verbose: bool | print intermediate results\n",
        "\n",
        "  Returns:\n",
        "  v_seq: list[[list[vector nx1]] sequence of v sequences for each centering step\n",
        "  \"\"\"\n",
        "  # Logarithmic barrier parameter\n",
        "  t = 0.1\n",
        "  n_iter = 1\n",
        "  v_seq = []\n",
        "  while True:\n",
        "    if verbose:\n",
        "      print(f\"Outer iteration: {n_iter} | t: {t}\")\n",
        "    # For each outer iteration, do a centering step (inner iterations)\n",
        "    v_inner_seq = centering_step(Q, p, A, b, t, v0, eps, verbose)\n",
        "    # Add new sequence from the centering step\n",
        "    v_seq.append(v_inner_seq)\n",
        "    # Update central point\n",
        "    v0 = v_inner_seq[-1]\n",
        "    # Check for precision\n",
        "    if b.shape[0] / t < eps:\n",
        "      return v_seq\n",
        "    # Increase logarithmic barrier\n",
        "    t *= mu\n",
        "    n_iter +=1"
      ],
      "execution_count": 2,
      "outputs": []
    },
    {
      "cell_type": "markdown",
      "metadata": {
        "id": "O4OUe3vufWn7"
      },
      "source": [
        "### Sanity check: comparing results with CVXPY"
      ]
    },
    {
      "cell_type": "code",
      "metadata": {
        "colab": {
          "base_uri": "https://localhost:8080/"
        },
        "id": "gE5YGyVcw9Wq",
        "outputId": "21160257-3cc8-4926-daa5-7b4ffb162c6a"
      },
      "source": [
        "# Small toy problem\n",
        "d = 5\n",
        "n = 10\n",
        "lam = 10\n",
        "np.random.seed(42)\n",
        "X = np.random.rand(n, d)\n",
        "y = np.random.rand(n)\n",
        "\n",
        "A = np.concatenate([X, -X], axis=1).T\n",
        "Q = np.eye(n) * 0.5\n",
        "p = -y\n",
        "b = np.ones(2*d) * lam\n",
        "# feasible point\n",
        "v0 = np.zeros(n)\n",
        "v_seq = barrier_method(Q, p, A, b, v0, verbose=True)\n",
        "\n",
        "\n",
        "# Define and solve the CVXPY problem.\n",
        "x = cp.Variable(n)\n",
        "prob = cp.Problem(cp.Minimize((cp.quad_form(x, Q) + p.T @ x)), [A @ x <= b])\n",
        "print()\n",
        "print(\"------------------------------------------------------------------\")\n",
        "v_sol = v_seq[-1][-1]\n",
        "fx_sol = prob.solve()\n",
        "fv_sol = np.dot(v_sol, Q@v_sol) + np.dot(p.T, v_sol)\n",
        "print(\"Difference between min values: \", np.abs(fx_sol - fv_sol))\n",
        "print()\n",
        "print(\"v_sol (my solution):\", v_sol)\n",
        "print(\"x_sol (cvxpy solution):\", x.value)"
      ],
      "execution_count": 3,
      "outputs": [
        {
          "output_type": "stream",
          "name": "stdout",
          "text": [
            "Outer iteration: 1 | t: 0.1\n",
            " ---> Inner iteration: 1 | Newton decrement: 0.22054228390168965 | f(v): 0.0\n",
            " ---> Inner iteration: 2 | Newton decrement: 1.1926706446947946e-05 | f(v): -1.5408977459580453\n",
            " ---> Inner iteration: 3 | Newton decrement: 4.894929301757252e-13 | f(v): -1.5336650531906744\n",
            "Outer iteration: 2 | t: 5.0\n",
            " ---> Inner iteration: 1 | Newton decrement: 7.000664021264975 | f(v): -1.5336650531906744\n",
            " ---> Inner iteration: 2 | Newton decrement: 7.834862830515269e-05 | f(v): -2.290198446721214\n",
            " ---> Inner iteration: 3 | Newton decrement: 4.3026583469431887e-14 | f(v): -2.2899090573294703\n",
            "Outer iteration: 3 | t: 250.0\n",
            " ---> Inner iteration: 1 | Newton decrement: 1.4255462323553119 | f(v): -2.2899090573294703\n",
            " ---> Inner iteration: 2 | Newton decrement: 1.3837774838558485e-10 | f(v): -2.292879448410458\n",
            "Outer iteration: 4 | t: 12500.0\n",
            " ---> Inner iteration: 1 | Newton decrement: 0.03148332328820491 | f(v): -2.292879448410458\n",
            " ---> Inner iteration: 2 | Newton decrement: 5.930435203349121e-19 | f(v): -2.292880759195218\n",
            "Outer iteration: 5 | t: 625000.0\n",
            " ---> Inner iteration: 1 | Newton decrement: 0.0006315644087445193 | f(v): -2.292880759195218\n",
            " ---> Inner iteration: 2 | Newton decrement: 7.120305731762934e-27 | f(v): -2.2928807597210925\n",
            "Outer iteration: 6 | t: 31250000.0\n",
            " ---> Inner iteration: 1 | Newton decrement: 1.2631818021127938e-05 | f(v): -2.2928807597210925\n",
            " ---> Inner iteration: 2 | Newton decrement: 1.2834587395626937e-25 | f(v): -2.292880759721302\n",
            "\n",
            "------------------------------------------------------------------\n",
            "Difference between min values:  0.0\n",
            "\n",
            "v_sol (my solution): [0.96958462 0.77513282 0.93949894 0.89482735 0.59789998 0.92187423\n",
            " 0.0884925  0.19598286 0.04522729 0.32533033]\n",
            "x_sol (cvxpy solution): [0.96958463 0.77513282 0.93949894 0.89482735 0.59789998 0.92187424\n",
            " 0.0884925  0.19598286 0.04522729 0.32533033]\n"
          ]
        }
      ]
    },
    {
      "cell_type": "markdown",
      "metadata": {
        "id": "HyJUnqRFj5Mu"
      },
      "source": [
        "## Testing the function with randomly generated matrices varying the value of $\\mu$"
      ]
    },
    {
      "cell_type": "markdown",
      "metadata": {
        "id": "3vmNza8wFSc2"
      },
      "source": [
        "### Number of iterations"
      ]
    },
    {
      "cell_type": "code",
      "metadata": {
        "colab": {
          "base_uri": "https://localhost:8080/"
        },
        "id": "8SpuTK8oj-Az",
        "outputId": "09f2ed54-ba93-44e9-c408-c50a1f97757a"
      },
      "source": [
        "# Test data\n",
        "eps = 1e-6\n",
        "d = 50\n",
        "n = 100\n",
        "lam = 10\n",
        "np.random.seed(42)\n",
        "X = np.random.rand(n, d)\n",
        "y = np.random.rand(n)\n",
        "\n",
        "A = np.concatenate([X, -X], axis=1).T\n",
        "Q = np.eye(n) * 0.5\n",
        "p = -y\n",
        "b = np.ones(2*d) * lam\n",
        "# feasible point\n",
        "v0 = np.zeros(n)\n",
        "\n",
        "# Iterating over different mu values\n",
        "gaps = []\n",
        "mus = [2, 5, 15, 50, 100, 500, 1000]\n",
        "for mu in mus:\n",
        "  v_seq = barrier_method(Q, p, A, b, v0, eps, mu)\n",
        "  # Unrolling last v of each newton iteration for the number of steps that iteration took\n",
        "  v = []\n",
        "  for outer in v_seq:\n",
        "    v.extend([outer[-1] for o in outer])\n",
        "  v_opt = v_seq[-1][-1]\n",
        "  f_opt = np.dot(v_opt, Q@v_opt) + np.dot(p.T, v_opt)\n",
        "  gaps.append([np.dot(v, Q@v) + np.dot(p.T, v) - f_opt for v in v[:-1]])"
      ],
      "execution_count": 4,
      "outputs": [
        {
          "output_type": "stream",
          "name": "stderr",
          "text": [
            "/usr/local/lib/python3.7/dist-packages/ipykernel_launcher.py:56: RuntimeWarning: invalid value encountered in log\n"
          ]
        }
      ]
    },
    {
      "cell_type": "code",
      "metadata": {
        "colab": {
          "base_uri": "https://localhost:8080/",
          "height": 652
        },
        "id": "3lo_lVXpr0oS",
        "outputId": "8744fe21-f46c-4c8e-ba03-e3463d2ef8c1"
      },
      "source": [
        "plt.figure(figsize=[10,10])\n",
        "plt.title(f\"Effect of $\\mu$ on the number of iterations\")\n",
        "plt.grid()\n",
        "for g in gaps:\n",
        "  plt.semilogy(g)\n",
        "plt.legend([f\"$\\mu = {mu}$\" for mu in mus])\n",
        "plt.xlabel(f\"# Newton iterations\\n Parameters: d={d}, n={n}, eps={eps}\")\n",
        "plt.ylabel(\"$f(v) - p*$\")"
      ],
      "execution_count": 5,
      "outputs": [
        {
          "output_type": "execute_result",
          "data": {
            "text/plain": [
              "Text(0, 0.5, '$f(v) - p*$')"
            ]
          },
          "metadata": {},
          "execution_count": 5
        },
        {
          "output_type": "display_data",
          "data": {
            "image/png": "[encoded data removed]",
            "text/plain": [
              "<Figure size 720x720 with 1 Axes>"
            ]
          },
          "metadata": {
            "needs_background": "light"
          }
        }
      ]
    },
    {
      "cell_type": "markdown",
      "metadata": {
        "id": "p0oWwx51XqWb"
      },
      "source": [
        "#### Comments about central values\n",
        "In the previous section I plot the gap $f(v) - p^*$ at the central points (the last value from the previous inner iteration) at each inner iteration, so we have the total number of iterations on the x-axis. That's why we observe the staircase structure, where the \"width\" of each step indicates the number of inner iterations to find the next central value, and the \"height\" between steps shows the gap between two consecutive central points. \n",
        "\n",
        "Note that we have guarantees that at each inner (Newton) iteration the objective function, including the logarithmic barrier, $tf(v) + \\phi(v)$ decreases. That was verified, however I observed that in some inner iterations, the value of $f(v)$ increases a little, because the net decrease is still positive, because of the decrease on the barrier. Finally, by observing only the gap at central points (where we know that we have primal and dual feasibility), we always observe a decrease on the value of the function. This can be explained because, at central points, the gap is $f(v^*(t) - p^* \\leq \\frac{m}{t}$, so when increasing $t$ the gap will decrease (Page 566 of [Convex Optimization – Boyd and Vandenberghe\n",
        "](https://web.stanford.edu/~boyd/cvxbook/))\n",
        "\n",
        "#### Changes in iterations when changing $\\mu$\n",
        "First, we see that after some threshold value $\\mu\\approx15$, the number of iterations is not at all sensitive to the changes of $\\mu$. Then, we can observe the trade-off between inner and outer iterations. When $\\mu$ is small, we need much more outer iterations for convergence (because we're increasing the barrier slowly), but the number of inner iterations is smaller for each central value. I.e we need less Newton steps to converge at each outer step, but we need more outer steps to find the solution. The converse is observed when $\\mu$ increases. If we assume the cost per iteration is fixed, we should select a value of $\\mu$ that minimizes the total number of them. Based on the experiments I did, I'd say that an appropiate value for this problem should be $\\mu \\in [50, 100]$."
      ]
    },
    {
      "cell_type": "markdown",
      "metadata": {
        "id": "Bx6KoLkUFU6_"
      },
      "source": [
        "### Value of $w$\n",
        "\n",
        "Because we have a convex problem, we know that if $t^*, w^*$ satisfy KKT conditions, then $t^*, w^*$ are optimal.\n",
        "\n",
        "Let's consider the first order condition for the gradient of the Lagrangian\n",
        "$\\nabla L(t^*) = \n",
        "0 \\iff t^*=-v^*$. \n",
        "\n",
        "Now, consider the primal feasibility:\n",
        "\n",
        "$t^* = Xw^*-y \\implies w^* = X^+(y-v^*)$ Where $X^+$ is the pseudo-inverse of $X$.\n",
        "\n",
        "\n"
      ]
    },
    {
      "cell_type": "code",
      "metadata": {
        "colab": {
          "base_uri": "https://localhost:8080/"
        },
        "id": "h2lEKcxhFYJ5",
        "outputId": "0274a8c7-8d91-4912-d831-f2aaf21aecf5"
      },
      "source": [
        "# Test data\n",
        "eps = 1e-6\n",
        "d = 200\n",
        "n = 500\n",
        "lam = 10\n",
        "np.random.seed(42)\n",
        "X = np.random.rand(n, d)\n",
        "y = np.random.rand(n)\n",
        "\n",
        "A = np.concatenate([X, -X], axis=1).T\n",
        "Q = np.eye(n) * 0.5\n",
        "p = -y\n",
        "b = np.ones(2*d) * lam\n",
        "# feasible point\n",
        "v0 = np.zeros(n)\n",
        "\n",
        "# Iterating over different mu values\n",
        "ws = []\n",
        "mus = [2, 15, 30, 50, 100, 500]\n",
        "for mu in mus:\n",
        "  v_seq = barrier_method(Q, p, A, b, v0, eps, mu)\n",
        "  v = v_seq[-1][-1]\n",
        "  # Compute w from v*\n",
        "  ws.append(np.dot(np.linalg.pinv(X),(y-v)))"
      ],
      "execution_count": 6,
      "outputs": [
        {
          "output_type": "stream",
          "name": "stderr",
          "text": [
            "/usr/local/lib/python3.7/dist-packages/ipykernel_launcher.py:56: RuntimeWarning: invalid value encountered in log\n"
          ]
        }
      ]
    },
    {
      "cell_type": "code",
      "metadata": {
        "colab": {
          "base_uri": "https://localhost:8080/",
          "height": 652
        },
        "id": "KWOMgTBUFhxW",
        "outputId": "21242769-ebdf-4375-8d7e-3c37e3a29c04"
      },
      "source": [
        "plt.figure(figsize=[10,10])\n",
        "plt.title(f\"Effect of $\\mu$ on the solution $w$\")\n",
        "for w in ws:\n",
        "  plt.plot(w, 'x')\n",
        "plt.legend([f\"$\\mu = {mu}$\" for mu in mus])\n",
        "plt.xlabel(f\"# i-th component\\n Parameters: d={d}, n={n}, eps={eps}\")\n",
        "plt.ylabel(\"Value of the i-th component\")"
      ],
      "execution_count": 7,
      "outputs": [
        {
          "output_type": "execute_result",
          "data": {
            "text/plain": [
              "Text(0, 0.5, 'Value of the i-th component')"
            ]
          },
          "metadata": {},
          "execution_count": 7
        },
        {
          "output_type": "display_data",
          "data": {
            "image/png": "[encoded data removed]",
            "text/plain": [
              "<Figure size 720x720 with 1 Axes>"
            ]
          },
          "metadata": {
            "needs_background": "light"
          }
        }
      ]
    },
    {
      "cell_type": "markdown",
      "metadata": {
        "id": "ggaWzgXpdVb1"
      },
      "source": [
        "The solution is completely stable at changes of $\\mu$. Despite considering different \"paths\" to optimize the problem, we always arrive at the same point. It was something I expected and it's great that we're able to verify it. This means that we can change this parameter without worrying about not converging to the solution.\n",
        "\n",
        "Finally, by looking at the different coefficients of the solution $w$, we can see how LASSO regression enforces getting a sparse solution, where most of its coefficients are 0."
      ]
    }
  ]
}